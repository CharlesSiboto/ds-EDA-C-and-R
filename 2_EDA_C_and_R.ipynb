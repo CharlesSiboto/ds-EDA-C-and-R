{
 "cells": [
  {
   "cell_type": "markdown",
   "id": "ae56948c",
   "metadata": {},
   "source": [
    "# EDA for Jennifer Montgomery"
   ]
  },
  {
   "cell_type": "markdown",
   "id": "64df8eb9",
   "metadata": {
    "vscode": {
     "languageId": "plaintext"
    }
   },
   "source": [
    "## Setup and Import"
   ]
  },
  {
   "cell_type": "code",
   "execution_count": 1,
   "id": "8aba5076",
   "metadata": {},
   "outputs": [
    {
     "data": {
      "application/vnd.plotly.v1+json": {
       "config": {
        "plotlyServerURL": "https://plot.ly"
       },
       "data": [
        {
         "hovertemplate": "x=%{x}<br>y=%{y}<extra></extra>",
         "legendgroup": "",
         "marker": {
          "color": "#636efa",
          "symbol": "circle"
         },
         "mode": "markers",
         "name": "",
         "orientation": "v",
         "showlegend": false,
         "type": "scatter",
         "x": {
          "bdata": "AQID",
          "dtype": "i1"
         },
         "xaxis": "x",
         "y": {
          "bdata": "BAUG",
          "dtype": "i1"
         },
         "yaxis": "y"
        }
       ],
       "layout": {
        "legend": {
         "tracegroupgap": 0
        },
        "template": {
         "data": {
          "bar": [
           {
            "error_x": {
             "color": "#2a3f5f"
            },
            "error_y": {
             "color": "#2a3f5f"
            },
            "marker": {
             "line": {
              "color": "#E5ECF6",
              "width": 0.5
             },
             "pattern": {
              "fillmode": "overlay",
              "size": 10,
              "solidity": 0.2
             }
            },
            "type": "bar"
           }
          ],
          "barpolar": [
           {
            "marker": {
             "line": {
              "color": "#E5ECF6",
              "width": 0.5
             },
             "pattern": {
              "fillmode": "overlay",
              "size": 10,
              "solidity": 0.2
             }
            },
            "type": "barpolar"
           }
          ],
          "carpet": [
           {
            "aaxis": {
             "endlinecolor": "#2a3f5f",
             "gridcolor": "white",
             "linecolor": "white",
             "minorgridcolor": "white",
             "startlinecolor": "#2a3f5f"
            },
            "baxis": {
             "endlinecolor": "#2a3f5f",
             "gridcolor": "white",
             "linecolor": "white",
             "minorgridcolor": "white",
             "startlinecolor": "#2a3f5f"
            },
            "type": "carpet"
           }
          ],
          "choropleth": [
           {
            "colorbar": {
             "outlinewidth": 0,
             "ticks": ""
            },
            "type": "choropleth"
           }
          ],
          "contour": [
           {
            "colorbar": {
             "outlinewidth": 0,
             "ticks": ""
            },
            "colorscale": [
             [
              0,
              "#0d0887"
             ],
             [
              0.1111111111111111,
              "#46039f"
             ],
             [
              0.2222222222222222,
              "#7201a8"
             ],
             [
              0.3333333333333333,
              "#9c179e"
             ],
             [
              0.4444444444444444,
              "#bd3786"
             ],
             [
              0.5555555555555556,
              "#d8576b"
             ],
             [
              0.6666666666666666,
              "#ed7953"
             ],
             [
              0.7777777777777778,
              "#fb9f3a"
             ],
             [
              0.8888888888888888,
              "#fdca26"
             ],
             [
              1,
              "#f0f921"
             ]
            ],
            "type": "contour"
           }
          ],
          "contourcarpet": [
           {
            "colorbar": {
             "outlinewidth": 0,
             "ticks": ""
            },
            "type": "contourcarpet"
           }
          ],
          "heatmap": [
           {
            "colorbar": {
             "outlinewidth": 0,
             "ticks": ""
            },
            "colorscale": [
             [
              0,
              "#0d0887"
             ],
             [
              0.1111111111111111,
              "#46039f"
             ],
             [
              0.2222222222222222,
              "#7201a8"
             ],
             [
              0.3333333333333333,
              "#9c179e"
             ],
             [
              0.4444444444444444,
              "#bd3786"
             ],
             [
              0.5555555555555556,
              "#d8576b"
             ],
             [
              0.6666666666666666,
              "#ed7953"
             ],
             [
              0.7777777777777778,
              "#fb9f3a"
             ],
             [
              0.8888888888888888,
              "#fdca26"
             ],
             [
              1,
              "#f0f921"
             ]
            ],
            "type": "heatmap"
           }
          ],
          "histogram": [
           {
            "marker": {
             "pattern": {
              "fillmode": "overlay",
              "size": 10,
              "solidity": 0.2
             }
            },
            "type": "histogram"
           }
          ],
          "histogram2d": [
           {
            "colorbar": {
             "outlinewidth": 0,
             "ticks": ""
            },
            "colorscale": [
             [
              0,
              "#0d0887"
             ],
             [
              0.1111111111111111,
              "#46039f"
             ],
             [
              0.2222222222222222,
              "#7201a8"
             ],
             [
              0.3333333333333333,
              "#9c179e"
             ],
             [
              0.4444444444444444,
              "#bd3786"
             ],
             [
              0.5555555555555556,
              "#d8576b"
             ],
             [
              0.6666666666666666,
              "#ed7953"
             ],
             [
              0.7777777777777778,
              "#fb9f3a"
             ],
             [
              0.8888888888888888,
              "#fdca26"
             ],
             [
              1,
              "#f0f921"
             ]
            ],
            "type": "histogram2d"
           }
          ],
          "histogram2dcontour": [
           {
            "colorbar": {
             "outlinewidth": 0,
             "ticks": ""
            },
            "colorscale": [
             [
              0,
              "#0d0887"
             ],
             [
              0.1111111111111111,
              "#46039f"
             ],
             [
              0.2222222222222222,
              "#7201a8"
             ],
             [
              0.3333333333333333,
              "#9c179e"
             ],
             [
              0.4444444444444444,
              "#bd3786"
             ],
             [
              0.5555555555555556,
              "#d8576b"
             ],
             [
              0.6666666666666666,
              "#ed7953"
             ],
             [
              0.7777777777777778,
              "#fb9f3a"
             ],
             [
              0.8888888888888888,
              "#fdca26"
             ],
             [
              1,
              "#f0f921"
             ]
            ],
            "type": "histogram2dcontour"
           }
          ],
          "mesh3d": [
           {
            "colorbar": {
             "outlinewidth": 0,
             "ticks": ""
            },
            "type": "mesh3d"
           }
          ],
          "parcoords": [
           {
            "line": {
             "colorbar": {
              "outlinewidth": 0,
              "ticks": ""
             }
            },
            "type": "parcoords"
           }
          ],
          "pie": [
           {
            "automargin": true,
            "type": "pie"
           }
          ],
          "scatter": [
           {
            "fillpattern": {
             "fillmode": "overlay",
             "size": 10,
             "solidity": 0.2
            },
            "type": "scatter"
           }
          ],
          "scatter3d": [
           {
            "line": {
             "colorbar": {
              "outlinewidth": 0,
              "ticks": ""
             }
            },
            "marker": {
             "colorbar": {
              "outlinewidth": 0,
              "ticks": ""
             }
            },
            "type": "scatter3d"
           }
          ],
          "scattercarpet": [
           {
            "marker": {
             "colorbar": {
              "outlinewidth": 0,
              "ticks": ""
             }
            },
            "type": "scattercarpet"
           }
          ],
          "scattergeo": [
           {
            "marker": {
             "colorbar": {
              "outlinewidth": 0,
              "ticks": ""
             }
            },
            "type": "scattergeo"
           }
          ],
          "scattergl": [
           {
            "marker": {
             "colorbar": {
              "outlinewidth": 0,
              "ticks": ""
             }
            },
            "type": "scattergl"
           }
          ],
          "scattermap": [
           {
            "marker": {
             "colorbar": {
              "outlinewidth": 0,
              "ticks": ""
             }
            },
            "type": "scattermap"
           }
          ],
          "scattermapbox": [
           {
            "marker": {
             "colorbar": {
              "outlinewidth": 0,
              "ticks": ""
             }
            },
            "type": "scattermapbox"
           }
          ],
          "scatterpolar": [
           {
            "marker": {
             "colorbar": {
              "outlinewidth": 0,
              "ticks": ""
             }
            },
            "type": "scatterpolar"
           }
          ],
          "scatterpolargl": [
           {
            "marker": {
             "colorbar": {
              "outlinewidth": 0,
              "ticks": ""
             }
            },
            "type": "scatterpolargl"
           }
          ],
          "scatterternary": [
           {
            "marker": {
             "colorbar": {
              "outlinewidth": 0,
              "ticks": ""
             }
            },
            "type": "scatterternary"
           }
          ],
          "surface": [
           {
            "colorbar": {
             "outlinewidth": 0,
             "ticks": ""
            },
            "colorscale": [
             [
              0,
              "#0d0887"
             ],
             [
              0.1111111111111111,
              "#46039f"
             ],
             [
              0.2222222222222222,
              "#7201a8"
             ],
             [
              0.3333333333333333,
              "#9c179e"
             ],
             [
              0.4444444444444444,
              "#bd3786"
             ],
             [
              0.5555555555555556,
              "#d8576b"
             ],
             [
              0.6666666666666666,
              "#ed7953"
             ],
             [
              0.7777777777777778,
              "#fb9f3a"
             ],
             [
              0.8888888888888888,
              "#fdca26"
             ],
             [
              1,
              "#f0f921"
             ]
            ],
            "type": "surface"
           }
          ],
          "table": [
           {
            "cells": {
             "fill": {
              "color": "#EBF0F8"
             },
             "line": {
              "color": "white"
             }
            },
            "header": {
             "fill": {
              "color": "#C8D4E3"
             },
             "line": {
              "color": "white"
             }
            },
            "type": "table"
           }
          ]
         },
         "layout": {
          "annotationdefaults": {
           "arrowcolor": "#2a3f5f",
           "arrowhead": 0,
           "arrowwidth": 1
          },
          "autotypenumbers": "strict",
          "coloraxis": {
           "colorbar": {
            "outlinewidth": 0,
            "ticks": ""
           }
          },
          "colorscale": {
           "diverging": [
            [
             0,
             "#8e0152"
            ],
            [
             0.1,
             "#c51b7d"
            ],
            [
             0.2,
             "#de77ae"
            ],
            [
             0.3,
             "#f1b6da"
            ],
            [
             0.4,
             "#fde0ef"
            ],
            [
             0.5,
             "#f7f7f7"
            ],
            [
             0.6,
             "#e6f5d0"
            ],
            [
             0.7,
             "#b8e186"
            ],
            [
             0.8,
             "#7fbc41"
            ],
            [
             0.9,
             "#4d9221"
            ],
            [
             1,
             "#276419"
            ]
           ],
           "sequential": [
            [
             0,
             "#0d0887"
            ],
            [
             0.1111111111111111,
             "#46039f"
            ],
            [
             0.2222222222222222,
             "#7201a8"
            ],
            [
             0.3333333333333333,
             "#9c179e"
            ],
            [
             0.4444444444444444,
             "#bd3786"
            ],
            [
             0.5555555555555556,
             "#d8576b"
            ],
            [
             0.6666666666666666,
             "#ed7953"
            ],
            [
             0.7777777777777778,
             "#fb9f3a"
            ],
            [
             0.8888888888888888,
             "#fdca26"
            ],
            [
             1,
             "#f0f921"
            ]
           ],
           "sequentialminus": [
            [
             0,
             "#0d0887"
            ],
            [
             0.1111111111111111,
             "#46039f"
            ],
            [
             0.2222222222222222,
             "#7201a8"
            ],
            [
             0.3333333333333333,
             "#9c179e"
            ],
            [
             0.4444444444444444,
             "#bd3786"
            ],
            [
             0.5555555555555556,
             "#d8576b"
            ],
            [
             0.6666666666666666,
             "#ed7953"
            ],
            [
             0.7777777777777778,
             "#fb9f3a"
            ],
            [
             0.8888888888888888,
             "#fdca26"
            ],
            [
             1,
             "#f0f921"
            ]
           ]
          },
          "colorway": [
           "#636efa",
           "#EF553B",
           "#00cc96",
           "#ab63fa",
           "#FFA15A",
           "#19d3f3",
           "#FF6692",
           "#B6E880",
           "#FF97FF",
           "#FECB52"
          ],
          "font": {
           "color": "#2a3f5f"
          },
          "geo": {
           "bgcolor": "white",
           "lakecolor": "white",
           "landcolor": "#E5ECF6",
           "showlakes": true,
           "showland": true,
           "subunitcolor": "white"
          },
          "hoverlabel": {
           "align": "left"
          },
          "hovermode": "closest",
          "mapbox": {
           "style": "light"
          },
          "paper_bgcolor": "white",
          "plot_bgcolor": "#E5ECF6",
          "polar": {
           "angularaxis": {
            "gridcolor": "white",
            "linecolor": "white",
            "ticks": ""
           },
           "bgcolor": "#E5ECF6",
           "radialaxis": {
            "gridcolor": "white",
            "linecolor": "white",
            "ticks": ""
           }
          },
          "scene": {
           "xaxis": {
            "backgroundcolor": "#E5ECF6",
            "gridcolor": "white",
            "gridwidth": 2,
            "linecolor": "white",
            "showbackground": true,
            "ticks": "",
            "zerolinecolor": "white"
           },
           "yaxis": {
            "backgroundcolor": "#E5ECF6",
            "gridcolor": "white",
            "gridwidth": 2,
            "linecolor": "white",
            "showbackground": true,
            "ticks": "",
            "zerolinecolor": "white"
           },
           "zaxis": {
            "backgroundcolor": "#E5ECF6",
            "gridcolor": "white",
            "gridwidth": 2,
            "linecolor": "white",
            "showbackground": true,
            "ticks": "",
            "zerolinecolor": "white"
           }
          },
          "shapedefaults": {
           "line": {
            "color": "#2a3f5f"
           }
          },
          "ternary": {
           "aaxis": {
            "gridcolor": "white",
            "linecolor": "white",
            "ticks": ""
           },
           "baxis": {
            "gridcolor": "white",
            "linecolor": "white",
            "ticks": ""
           },
           "bgcolor": "#E5ECF6",
           "caxis": {
            "gridcolor": "white",
            "linecolor": "white",
            "ticks": ""
           }
          },
          "title": {
           "x": 0.05
          },
          "xaxis": {
           "automargin": true,
           "gridcolor": "white",
           "linecolor": "white",
           "ticks": "",
           "title": {
            "standoff": 15
           },
           "zerolinecolor": "white",
           "zerolinewidth": 2
          },
          "yaxis": {
           "automargin": true,
           "gridcolor": "white",
           "linecolor": "white",
           "ticks": "",
           "title": {
            "standoff": 15
           },
           "zerolinecolor": "white",
           "zerolinewidth": 2
          }
         }
        },
        "title": {
         "text": "Test Plotly Plot"
        },
        "xaxis": {
         "anchor": "y",
         "domain": [
          0,
          1
         ],
         "title": {
          "text": "x"
         }
        },
        "yaxis": {
         "anchor": "x",
         "domain": [
          0,
          1
         ],
         "title": {
          "text": "y"
         }
        }
       }
      }
     },
     "metadata": {},
     "output_type": "display_data"
    }
   ],
   "source": [
    "import plotly.express as px\n",
    "fig = px.scatter(x=[1, 2, 3], y=[4, 5, 6], title=\"Test Plotly Plot\")\n",
    "fig.show()"
   ]
  },
  {
   "cell_type": "code",
   "execution_count": 8,
   "id": "20eeb5f8",
   "metadata": {},
   "outputs": [],
   "source": [
    "import matplotlib.pyplot as plt\n",
    "import seaborn as sns"
   ]
  },
  {
   "cell_type": "code",
   "execution_count": 9,
   "id": "86cfb1bb",
   "metadata": {},
   "outputs": [],
   "source": [
    "import plotly.express as px"
   ]
  },
  {
   "cell_type": "code",
   "execution_count": 5,
   "id": "0d25c0f2",
   "metadata": {},
   "outputs": [
    {
     "name": "stdout",
     "output_type": "stream",
     "text": [
      "         date      price    house_id  bedrooms  sqft_living  view  grade  \\\n",
      "0  2014-09-08   905000.0  1483300570       4.0       3300.0   0.0      7   \n",
      "1  2014-10-07  1090000.0  2450000295       3.0       2920.0   0.0      8   \n",
      "2  2015-03-02  1450000.0  4389200955       4.0       2750.0   0.0      8   \n",
      "3  2015-02-21  1510000.0    46100204       5.0       3300.0   3.0      9   \n",
      "4  2015-05-13  2050000.0  7424700045       5.0       3830.0   1.0      9   \n",
      "\n",
      "   yr_renovated  zipcode  waterfront  \n",
      "0         19910    98040         0.0  \n",
      "1         20100    98004         0.0  \n",
      "2         19920    98004         0.0  \n",
      "3         19910    98040         NaN  \n",
      "4         19940    98122         0.0  \n"
     ]
    }
   ],
   "source": [
    "import pandas as pd # Import packages\n",
    "csv_file_path = 'C:\\\\Users\\\\fr33c\\\\OneDrive\\\\Desktop\\\\AIPM\\\\ds-EDA-C-and-R\\\\data\\\\eda.csv' # Path to the CSV file\n",
    "df = pd.read_csv(csv_file_path) # Read the CSV file into a DataFrame\n",
    "print(df.head()) # Display the first few rows of the DataFrame"
   ]
  },
  {
   "cell_type": "markdown",
   "id": "bb0ab511",
   "metadata": {},
   "source": [
    "## Getting to Know the Data"
   ]
  },
  {
   "cell_type": "code",
   "execution_count": 10,
   "id": "f646a2af",
   "metadata": {},
   "outputs": [
    {
     "name": "stdout",
     "output_type": "stream",
     "text": [
      "         date      price    house_id  bedrooms  sqft_living  view  grade  \\\n",
      "0  2014-09-08   905000.0  1483300570       4.0       3300.0   0.0      7   \n",
      "1  2014-10-07  1090000.0  2450000295       3.0       2920.0   0.0      8   \n",
      "2  2015-03-02  1450000.0  4389200955       4.0       2750.0   0.0      8   \n",
      "3  2015-02-21  1510000.0    46100204       5.0       3300.0   3.0      9   \n",
      "4  2015-05-13  2050000.0  7424700045       5.0       3830.0   1.0      9   \n",
      "\n",
      "   yr_renovated  zipcode  waterfront  \n",
      "0         19910    98040         0.0  \n",
      "1         20100    98004         0.0  \n",
      "2         19920    98004         0.0  \n",
      "3         19910    98040         NaN  \n",
      "4         19940    98122         0.0  \n",
      "           date      price    house_id  bedrooms  sqft_living  view  grade  \\\n",
      "195  2014-07-14  1520000.0  2397100705       4.0       3650.0   0.0      9   \n",
      "196  2014-08-20  2160000.0  5553300375       3.0       3080.0   3.0     11   \n",
      "197  2014-07-08   950000.0   868000905       3.0       3480.0   0.0      7   \n",
      "198  2014-08-25   850000.0  1797500600       5.0       3150.0   0.0      8   \n",
      "199  2014-08-13  2400000.0  6072800265       4.0       3800.0   0.0     10   \n",
      "\n",
      "     yr_renovated  zipcode  waterfront  \n",
      "195         20140    98119         0.0  \n",
      "196         20060    98199         0.0  \n",
      "197         19980    98177         0.0  \n",
      "198         20070    98115         0.0  \n",
      "199         20090    98006         0.0  \n",
      "<class 'pandas.core.frame.DataFrame'>\n",
      "RangeIndex: 200 entries, 0 to 199\n",
      "Data columns (total 10 columns):\n",
      " #   Column        Non-Null Count  Dtype  \n",
      "---  ------        --------------  -----  \n",
      " 0   date          200 non-null    object \n",
      " 1   price         200 non-null    float64\n",
      " 2   house_id      200 non-null    int64  \n",
      " 3   bedrooms      200 non-null    float64\n",
      " 4   sqft_living   200 non-null    float64\n",
      " 5   view          199 non-null    float64\n",
      " 6   grade         200 non-null    int64  \n",
      " 7   yr_renovated  200 non-null    int64  \n",
      " 8   zipcode       200 non-null    int64  \n",
      " 9   waterfront    173 non-null    float64\n",
      "dtypes: float64(5), int64(4), object(1)\n",
      "memory usage: 15.8+ KB\n",
      "None\n",
      "              price      house_id    bedrooms   sqft_living        view  \\\n",
      "count  2.000000e+02  2.000000e+02  200.000000    200.000000  199.000000   \n",
      "mean   1.419239e+06  4.219720e+09    4.080000   3513.450000    1.366834   \n",
      "std    8.587781e+05  2.891192e+09    0.937011   1154.844647    1.547597   \n",
      "min    7.550000e+05  3.100016e+07    3.000000   2520.000000    0.000000   \n",
      "25%    9.000000e+05  1.947040e+09    3.000000   2857.500000    0.000000   \n",
      "50%    1.180000e+06  3.526470e+09    4.000000   3255.000000    0.000000   \n",
      "75%    1.650000e+06  6.744700e+09    4.000000   3830.000000    3.000000   \n",
      "max    7.700000e+06  9.829200e+09    9.000000  12050.000000    4.000000   \n",
      "\n",
      "            grade  yr_renovated       zipcode  waterfront  \n",
      "count  200.000000    200.000000    200.000000  173.000000  \n",
      "mean     8.995000  20007.750000  98095.190000    0.098266  \n",
      "std      1.109563    108.509488     59.851524    0.298538  \n",
      "min      7.000000  19560.000000  98004.000000    0.000000  \n",
      "25%      8.000000  19940.000000  98040.000000    0.000000  \n",
      "50%      9.000000  20030.000000  98112.000000    0.000000  \n",
      "75%     10.000000  20080.000000  98136.000000    0.000000  \n",
      "max     13.000000  20150.000000  98199.000000    1.000000  \n",
      "Index(['date', 'price', 'house_id', 'bedrooms', 'sqft_living', 'view', 'grade',\n",
      "       'yr_renovated', 'zipcode', 'waterfront'],\n",
      "      dtype='object')\n",
      "date            134\n",
      "price           138\n",
      "house_id        200\n",
      "bedrooms          6\n",
      "sqft_living     127\n",
      "view              5\n",
      "grade             7\n",
      "yr_renovated     39\n",
      "zipcode          41\n",
      "waterfront        2\n",
      "dtype: int64\n",
      "date             0\n",
      "price            0\n",
      "house_id         0\n",
      "bedrooms         0\n",
      "sqft_living      0\n",
      "view             1\n",
      "grade            0\n",
      "yr_renovated     0\n",
      "zipcode          0\n",
      "waterfront      27\n",
      "dtype: int64\n"
     ]
    }
   ],
   "source": [
    "# Examine the usual suspects: head, tail, unique values etc.\n",
    "# Show the first 5 rows\n",
    "print(df.head())\n",
    "\n",
    "# Show the last 5 rows\n",
    "print(df.tail())\n",
    "\n",
    "# Show summary info (including datatypes and non-null counts)\n",
    "print(df.info())\n",
    "\n",
    "# Show basic statistics for numerical columns\n",
    "print(df.describe())\n",
    "\n",
    "# List all column names\n",
    "print(df.columns)\n",
    "\n",
    "# Get the number of unique values per column\n",
    "print(df.nunique())\n",
    "\n",
    "# Check for missing values per column\n",
    "print(df.isnull().sum())"
   ]
  },
  {
   "cell_type": "markdown",
   "id": "935045d1",
   "metadata": {},
   "source": [
    "## Visualisations"
   ]
  },
  {
   "cell_type": "markdown",
   "id": "21f9b051",
   "metadata": {},
   "source": [
    "### 1. Plot"
   ]
  },
  {
   "cell_type": "markdown",
   "id": "728de370",
   "metadata": {},
   "source": [
    "### Waterfront vs Non-Waterfront (Box Plot)"
   ]
  },
  {
   "cell_type": "code",
   "execution_count": 11,
   "id": "000b01f5",
   "metadata": {
    "vscode": {
     "languageId": "javascript"
    }
   },
   "outputs": [
    {
     "data": {
      "image/png": "[encoded data removed]",
      "text/plain": [
       "<Figure size 800x600 with 1 Axes>"
      ]
     },
     "metadata": {},
     "output_type": "display_data"
    }
   ],
   "source": [
    "plt.figure(figsize=(8,6))\n",
    "sns.boxplot(x='waterfront', y='price', data=df)\n",
    "plt.xticks([0,1], ['No Waterfront', 'Waterfront'])\n",
    "plt.title('Price Distribution: Waterfront vs Non-Waterfront')\n",
    "plt.ylabel('Price ($)')\n",
    "plt.xlabel('Waterfront')\n",
    "plt.yscale('log')  # Because prices can vary widely\n",
    "plt.show()\n"
   ]
  },
  {
   "cell_type": "markdown",
   "id": "efbdec03",
   "metadata": {},
   "source": [
    "## Average Price by Zipcode (Bar Plot)"
   ]
  },
  {
   "cell_type": "code",
   "execution_count": 12,
   "id": "7f419fbf",
   "metadata": {
    "vscode": {
     "languageId": "javascript"
    }
   },
   "outputs": [
    {
     "name": "stderr",
     "output_type": "stream",
     "text": [
      "C:\\Users\\fr33c\\AppData\\Local\\Temp\\ipykernel_14864\\3815023768.py:9: FutureWarning:\n",
      "\n",
      "\n",
      "\n",
      "Passing `palette` without assigning `hue` is deprecated and will be removed in v0.14.0. Assign the `x` variable to `hue` and set `legend=False` for the same effect.\n",
      "\n",
      "\n"
     ]
    },
    {
     "data": {
      "image/png": "[encoded data removed]",
      "text/plain": [
       "<Figure size 1200x600 with 1 Axes>"
      ]
     },
     "metadata": {},
     "output_type": "display_data"
    }
   ],
   "source": [
    "# Group by zipcode\n",
    "zip_summary = df.groupby('zipcode').agg(\n",
    "    num_homes=('price', 'count'),\n",
    "    avg_price=('price', 'mean')\n",
    ").reset_index().sort_values('avg_price', ascending=False)\n",
    "\n",
    "# Bar plot (top 15 zip codes)\n",
    "plt.figure(figsize=(12,6))\n",
    "sns.barplot(data=zip_summary.head(15), x='zipcode', y='avg_price', palette='viridis')\n",
    "plt.xticks(rotation=45)\n",
    "plt.title('Average House Price by Zipcode')\n",
    "plt.ylabel('Average Price ($)')\n",
    "plt.xlabel('Zipcode')\n",
    "plt.tight_layout()\n",
    "plt.show()\n"
   ]
  },
  {
   "cell_type": "markdown",
   "id": "5683f2cd",
   "metadata": {},
   "source": [
    "## Scatter Plot for Jennifer’s Criteria\n",
    "\n",
    "Homes that are:\n",
    "\n",
    "Waterfront\n",
    "\n",
    "Renovated\n",
    "\n",
    "At least 3 bedrooms\n",
    "\n",
    "3000 sqft\n",
    "\n",
    "$1,000,000"
   ]
  },
  {
   "cell_type": "code",
   "execution_count": 14,
   "id": "a4a61f0d",
   "metadata": {
    "vscode": {
     "languageId": "javascript"
    }
   },
   "outputs": [
    {
     "data": {
      "application/vnd.plotly.v1+json": {
       "config": {
        "plotlyServerURL": "https://plot.ly"
       },
       "data": [
        {
         "customdata": {
          "bdata": "AAAAAAAACEAAAAAAAAAkQAAAAAAAjdNAAAAAAAAAFEAAAAAAAAAmQAAAAACAitNAAAAAAAAACEAAAAAAAAAiQAAAAAAAl9NAAAAAAAAACEAAAAAAAAAcQAAAAACAdtNAAAAAAAAAEEAAAAAAAAAgQAAAAACAcdNAAAAAAAAAFEAAAAAAAAAiQAAAAAAAVtNAAAAAAAAAFEAAAAAAAAAoQAAAAACAntNAAAAAAAAAGEAAAAAAAAAgQAAAAACAXdNAAAAAAAAACEAAAAAAAAAoQAAAAAAAb9NAAAAAAAAAEEAAAAAAAAAcQAAAAACAMNNAAAAAAAAACEAAAAAAAAAmQAAAAACAZ9NAAAAAAAAAEEAAAAAAAAAiQAAAAACAbNNAAAAAAAAACEAAAAAAAAAgQAAAAAAAYNNA",
          "dtype": "f8",
          "shape": "13, 3"
         },
         "hovertemplate": "sqft_living=%{x}<br>price=%{y}<br>grade=%{customdata[1]}<br>bedrooms=%{customdata[0]}<br>yr_renovated=%{customdata[2]}<br>zipcode=%{marker.color}<extra></extra>",
         "legendgroup": "",
         "marker": {
          "color": {
           "bdata": "YH8BANR+AQAWfwEA534BAIJ/AQD4fgEA+H4BAGB/AQB2fwEATX8BANh+AQCWfwEA2H4BAA==",
           "dtype": "i4"
          },
          "coloraxis": "coloraxis",
          "size": {
           "bdata": "CgsJBwgJDAgMBwsJCA==",
           "dtype": "i1"
          },
          "sizemode": "area",
          "sizeref": 0.03,
          "symbol": "circle"
         },
         "mode": "markers",
         "name": "",
         "orientation": "v",
         "showlegend": false,
         "type": "scatter",
         "x": {
          "bdata": "AAAAAACcs0AAAAAAAJzDQAAAAAAAlK1AAAAAAAA8qUAAAAAAAOyoQAAAAAAA7q1AAAAAAADUwkAAAAAAAJinQAAAAAAANLJAAAAAAAD4q0AAAAAAAHywQAAAAAAAYKhAAAAAAAB0qEA=",
          "dtype": "f8"
         },
         "xaxis": "x",
         "y": {
          "bdata": "AAAAAEB3S0EAAAAAiO5aQQAAAACgDjVBAAAAADCMMUEAAAAA4MgwQQAAAABwmURBAAAAAIzQUUEAAAAA4P08QQAAAABABjlBAAAAANBHP0EAAAAAUC1JQQAAAACwxDJBAAAAAMBcNUE=",
          "dtype": "f8"
         },
         "yaxis": "y"
        }
       ],
       "layout": {
        "coloraxis": {
         "colorbar": {
          "title": {
           "text": "zipcode"
          }
         },
         "colorscale": [
          [
           0,
           "#0d0887"
          ],
          [
           0.1111111111111111,
           "#46039f"
          ],
          [
           0.2222222222222222,
           "#7201a8"
          ],
          [
           0.3333333333333333,
           "#9c179e"
          ],
          [
           0.4444444444444444,
           "#bd3786"
          ],
          [
           0.5555555555555556,
           "#d8576b"
          ],
          [
           0.6666666666666666,
           "#ed7953"
          ],
          [
           0.7777777777777778,
           "#fb9f3a"
          ],
          [
           0.8888888888888888,
           "#fdca26"
          ],
          [
           1,
           "#f0f921"
          ]
         ]
        },
        "legend": {
         "itemsizing": "constant",
         "tracegroupgap": 0
        },
        "template": {
         "data": {
          "bar": [
           {
            "error_x": {
             "color": "#2a3f5f"
            },
            "error_y": {
             "color": "#2a3f5f"
            },
            "marker": {
             "line": {
              "color": "#E5ECF6",
              "width": 0.5
             },
             "pattern": {
              "fillmode": "overlay",
              "size": 10,
              "solidity": 0.2
             }
            },
            "type": "bar"
           }
          ],
          "barpolar": [
           {
            "marker": {
             "line": {
              "color": "#E5ECF6",
              "width": 0.5
             },
             "pattern": {
              "fillmode": "overlay",
              "size": 10,
              "solidity": 0.2
             }
            },
            "type": "barpolar"
           }
          ],
          "carpet": [
           {
            "aaxis": {
             "endlinecolor": "#2a3f5f",
             "gridcolor": "white",
             "linecolor": "white",
             "minorgridcolor": "white",
             "startlinecolor": "#2a3f5f"
            },
            "baxis": {
             "endlinecolor": "#2a3f5f",
             "gridcolor": "white",
             "linecolor": "white",
             "minorgridcolor": "white",
             "startlinecolor": "#2a3f5f"
            },
            "type": "carpet"
           }
          ],
          "choropleth": [
           {
            "colorbar": {
             "outlinewidth": 0,
             "ticks": ""
            },
            "type": "choropleth"
           }
          ],
          "contour": [
           {
            "colorbar": {
             "outlinewidth": 0,
             "ticks": ""
            },
            "colorscale": [
             [
              0,
              "#0d0887"
             ],
             [
              0.1111111111111111,
              "#46039f"
             ],
             [
              0.2222222222222222,
              "#7201a8"
             ],
             [
              0.3333333333333333,
              "#9c179e"
             ],
             [
              0.4444444444444444,
              "#bd3786"
             ],
             [
              0.5555555555555556,
              "#d8576b"
             ],
             [
              0.6666666666666666,
              "#ed7953"
             ],
             [
              0.7777777777777778,
              "#fb9f3a"
             ],
             [
              0.8888888888888888,
              "#fdca26"
             ],
             [
              1,
              "#f0f921"
             ]
            ],
            "type": "contour"
           }
          ],
          "contourcarpet": [
           {
            "colorbar": {
             "outlinewidth": 0,
             "ticks": ""
            },
            "type": "contourcarpet"
           }
          ],
          "heatmap": [
           {
            "colorbar": {
             "outlinewidth": 0,
             "ticks": ""
            },
            "colorscale": [
             [
              0,
              "#0d0887"
             ],
             [
              0.1111111111111111,
              "#46039f"
             ],
             [
              0.2222222222222222,
              "#7201a8"
             ],
             [
              0.3333333333333333,
              "#9c179e"
             ],
             [
              0.4444444444444444,
              "#bd3786"
             ],
             [
              0.5555555555555556,
              "#d8576b"
             ],
             [
              0.6666666666666666,
              "#ed7953"
             ],
             [
              0.7777777777777778,
              "#fb9f3a"
             ],
             [
              0.8888888888888888,
              "#fdca26"
             ],
             [
              1,
              "#f0f921"
             ]
            ],
            "type": "heatmap"
           }
          ],
          "histogram": [
           {
            "marker": {
             "pattern": {
              "fillmode": "overlay",
              "size": 10,
              "solidity": 0.2
             }
            },
            "type": "histogram"
           }
          ],
          "histogram2d": [
           {
            "colorbar": {
             "outlinewidth": 0,
             "ticks": ""
            },
            "colorscale": [
             [
              0,
              "#0d0887"
             ],
             [
              0.1111111111111111,
              "#46039f"
             ],
             [
              0.2222222222222222,
              "#7201a8"
             ],
             [
              0.3333333333333333,
              "#9c179e"
             ],
             [
              0.4444444444444444,
              "#bd3786"
             ],
             [
              0.5555555555555556,
              "#d8576b"
             ],
             [
              0.6666666666666666,
              "#ed7953"
             ],
             [
              0.7777777777777778,
              "#fb9f3a"
             ],
             [
              0.8888888888888888,
              "#fdca26"
             ],
             [
              1,
              "#f0f921"
             ]
            ],
            "type": "histogram2d"
           }
          ],
          "histogram2dcontour": [
           {
            "colorbar": {
             "outlinewidth": 0,
             "ticks": ""
            },
            "colorscale": [
             [
              0,
              "#0d0887"
             ],
             [
              0.1111111111111111,
              "#46039f"
             ],
             [
              0.2222222222222222,
              "#7201a8"
             ],
             [
              0.3333333333333333,
              "#9c179e"
             ],
             [
              0.4444444444444444,
              "#bd3786"
             ],
             [
              0.5555555555555556,
              "#d8576b"
             ],
             [
              0.6666666666666666,
              "#ed7953"
             ],
             [
              0.7777777777777778,
              "#fb9f3a"
             ],
             [
              0.8888888888888888,
              "#fdca26"
             ],
             [
              1,
              "#f0f921"
             ]
            ],
            "type": "histogram2dcontour"
           }
          ],
          "mesh3d": [
           {
            "colorbar": {
             "outlinewidth": 0,
             "ticks": ""
            },
            "type": "mesh3d"
           }
          ],
          "parcoords": [
           {
            "line": {
             "colorbar": {
              "outlinewidth": 0,
              "ticks": ""
             }
            },
            "type": "parcoords"
           }
          ],
          "pie": [
           {
            "automargin": true,
            "type": "pie"
           }
          ],
          "scatter": [
           {
            "fillpattern": {
             "fillmode": "overlay",
             "size": 10,
             "solidity": 0.2
            },
            "type": "scatter"
           }
          ],
          "scatter3d": [
           {
            "line": {
             "colorbar": {
              "outlinewidth": 0,
              "ticks": ""
             }
            },
            "marker": {
             "colorbar": {
              "outlinewidth": 0,
              "ticks": ""
             }
            },
            "type": "scatter3d"
           }
          ],
          "scattercarpet": [
           {
            "marker": {
             "colorbar": {
              "outlinewidth": 0,
              "ticks": ""
             }
            },
            "type": "scattercarpet"
           }
          ],
          "scattergeo": [
           {
            "marker": {
             "colorbar": {
              "outlinewidth": 0,
              "ticks": ""
             }
            },
            "type": "scattergeo"
           }
          ],
          "scattergl": [
           {
            "marker": {
             "colorbar": {
              "outlinewidth": 0,
              "ticks": ""
             }
            },
            "type": "scattergl"
           }
          ],
          "scattermap": [
           {
            "marker": {
             "colorbar": {
              "outlinewidth": 0,
              "ticks": ""
             }
            },
            "type": "scattermap"
           }
          ],
          "scattermapbox": [
           {
            "marker": {
             "colorbar": {
              "outlinewidth": 0,
              "ticks": ""
             }
            },
            "type": "scattermapbox"
           }
          ],
          "scatterpolar": [
           {
            "marker": {
             "colorbar": {
              "outlinewidth": 0,
              "ticks": ""
             }
            },
            "type": "scatterpolar"
           }
          ],
          "scatterpolargl": [
           {
            "marker": {
             "colorbar": {
              "outlinewidth": 0,
              "ticks": ""
             }
            },
            "type": "scatterpolargl"
           }
          ],
          "scatterternary": [
           {
            "marker": {
             "colorbar": {
              "outlinewidth": 0,
              "ticks": ""
             }
            },
            "type": "scatterternary"
           }
          ],
          "surface": [
           {
            "colorbar": {
             "outlinewidth": 0,
             "ticks": ""
            },
            "colorscale": [
             [
              0,
              "#0d0887"
             ],
             [
              0.1111111111111111,
              "#46039f"
             ],
             [
              0.2222222222222222,
              "#7201a8"
             ],
             [
              0.3333333333333333,
              "#9c179e"
             ],
             [
              0.4444444444444444,
              "#bd3786"
             ],
             [
              0.5555555555555556,
              "#d8576b"
             ],
             [
              0.6666666666666666,
              "#ed7953"
             ],
             [
              0.7777777777777778,
              "#fb9f3a"
             ],
             [
              0.8888888888888888,
              "#fdca26"
             ],
             [
              1,
              "#f0f921"
             ]
            ],
            "type": "surface"
           }
          ],
          "table": [
           {
            "cells": {
             "fill": {
              "color": "#EBF0F8"
             },
             "line": {
              "color": "white"
             }
            },
            "header": {
             "fill": {
              "color": "#C8D4E3"
             },
             "line": {
              "color": "white"
             }
            },
            "type": "table"
           }
          ]
         },
         "layout": {
          "annotationdefaults": {
           "arrowcolor": "#2a3f5f",
           "arrowhead": 0,
           "arrowwidth": 1
          },
          "autotypenumbers": "strict",
          "coloraxis": {
           "colorbar": {
            "outlinewidth": 0,
            "ticks": ""
           }
          },
          "colorscale": {
           "diverging": [
            [
             0,
             "#8e0152"
            ],
            [
             0.1,
             "#c51b7d"
            ],
            [
             0.2,
             "#de77ae"
            ],
            [
             0.3,
             "#f1b6da"
            ],
            [
             0.4,
             "#fde0ef"
            ],
            [
             0.5,
             "#f7f7f7"
            ],
            [
             0.6,
             "#e6f5d0"
            ],
            [
             0.7,
             "#b8e186"
            ],
            [
             0.8,
             "#7fbc41"
            ],
            [
             0.9,
             "#4d9221"
            ],
            [
             1,
             "#276419"
            ]
           ],
           "sequential": [
            [
             0,
             "#0d0887"
            ],
            [
             0.1111111111111111,
             "#46039f"
            ],
            [
             0.2222222222222222,
             "#7201a8"
            ],
            [
             0.3333333333333333,
             "#9c179e"
            ],
            [
             0.4444444444444444,
             "#bd3786"
            ],
            [
             0.5555555555555556,
             "#d8576b"
            ],
            [
             0.6666666666666666,
             "#ed7953"
            ],
            [
             0.7777777777777778,
             "#fb9f3a"
            ],
            [
             0.8888888888888888,
             "#fdca26"
            ],
            [
             1,
             "#f0f921"
            ]
           ],
           "sequentialminus": [
            [
             0,
             "#0d0887"
            ],
            [
             0.1111111111111111,
             "#46039f"
            ],
            [
             0.2222222222222222,
             "#7201a8"
            ],
            [
             0.3333333333333333,
             "#9c179e"
            ],
            [
             0.4444444444444444,
             "#bd3786"
            ],
            [
             0.5555555555555556,
             "#d8576b"
            ],
            [
             0.6666666666666666,
             "#ed7953"
            ],
            [
             0.7777777777777778,
             "#fb9f3a"
            ],
            [
             0.8888888888888888,
             "#fdca26"
            ],
            [
             1,
             "#f0f921"
            ]
           ]
          },
          "colorway": [
           "#636efa",
           "#EF553B",
           "#00cc96",
           "#ab63fa",
           "#FFA15A",
           "#19d3f3",
           "#FF6692",
           "#B6E880",
           "#FF97FF",
           "#FECB52"
          ],
          "font": {
           "color": "#2a3f5f"
          },
          "geo": {
           "bgcolor": "white",
           "lakecolor": "white",
           "landcolor": "#E5ECF6",
           "showlakes": true,
           "showland": true,
           "subunitcolor": "white"
          },
          "hoverlabel": {
           "align": "left"
          },
          "hovermode": "closest",
          "mapbox": {
           "style": "light"
          },
          "paper_bgcolor": "white",
          "plot_bgcolor": "#E5ECF6",
          "polar": {
           "angularaxis": {
            "gridcolor": "white",
            "linecolor": "white",
            "ticks": ""
           },
           "bgcolor": "#E5ECF6",
           "radialaxis": {
            "gridcolor": "white",
            "linecolor": "white",
            "ticks": ""
           }
          },
          "scene": {
           "xaxis": {
            "backgroundcolor": "#E5ECF6",
            "gridcolor": "white",
            "gridwidth": 2,
            "linecolor": "white",
            "showbackground": true,
            "ticks": "",
            "zerolinecolor": "white"
           },
           "yaxis": {
            "backgroundcolor": "#E5ECF6",
            "gridcolor": "white",
            "gridwidth": 2,
            "linecolor": "white",
            "showbackground": true,
            "ticks": "",
            "zerolinecolor": "white"
           },
           "zaxis": {
            "backgroundcolor": "#E5ECF6",
            "gridcolor": "white",
            "gridwidth": 2,
            "linecolor": "white",
            "showbackground": true,
            "ticks": "",
            "zerolinecolor": "white"
           }
          },
          "shapedefaults": {
           "line": {
            "color": "#2a3f5f"
           }
          },
          "ternary": {
           "aaxis": {
            "gridcolor": "white",
            "linecolor": "white",
            "ticks": ""
           },
           "baxis": {
            "gridcolor": "white",
            "linecolor": "white",
            "ticks": ""
           },
           "bgcolor": "#E5ECF6",
           "caxis": {
            "gridcolor": "white",
            "linecolor": "white",
            "ticks": ""
           }
          },
          "title": {
           "x": 0.05
          },
          "xaxis": {
           "automargin": true,
           "gridcolor": "white",
           "linecolor": "white",
           "ticks": "",
           "title": {
            "standoff": 15
           },
           "zerolinecolor": "white",
           "zerolinewidth": 2
          },
          "yaxis": {
           "automargin": true,
           "gridcolor": "white",
           "linecolor": "white",
           "ticks": "",
           "title": {
            "standoff": 15
           },
           "zerolinecolor": "white",
           "zerolinewidth": 2
          }
         }
        },
        "title": {
         "text": "High-End Renovated Waterfront Properties"
        },
        "xaxis": {
         "anchor": "y",
         "domain": [
          0,
          1
         ],
         "title": {
          "text": "sqft_living"
         }
        },
        "yaxis": {
         "anchor": "x",
         "domain": [
          0,
          1
         ],
         "title": {
          "text": "price"
         }
        }
       }
      }
     },
     "metadata": {},
     "output_type": "display_data"
    }
   ],
   "source": [
    "jennifer_df = df[\n",
    "    (df['waterfront'] == 1) &\n",
    "    (df['yr_renovated'] > 0) &\n",
    "    (df['bedrooms'] >= 3) &\n",
    "    (df['sqft_living'] > 3000) &\n",
    "    (df['price'] > 1_000_000)\n",
    "]\n",
    "\n",
    "fig = px.scatter(\n",
    "    jennifer_df,\n",
    "    x='sqft_living',\n",
    "    y='price',\n",
    "    color='zipcode',\n",
    "    size='grade',\n",
    "    hover_data=['bedrooms', 'grade', 'yr_renovated'],\n",
    "    title='High-End Renovated Waterfront Properties'\n",
    ")\n",
    "fig.show()\n"
   ]
  },
  {
   "cell_type": "markdown",
   "id": "f4e78966",
   "metadata": {},
   "source": [
    "## Grade vs Price (Violin or Box Plot)\n",
    "Grades represent quality of construction. Higher = better."
   ]
  },
  {
   "cell_type": "code",
   "execution_count": 15,
   "id": "14e23916",
   "metadata": {
    "vscode": {
     "languageId": "javascript"
    }
   },
   "outputs": [
    {
     "data": {
      "image/png": "[encoded data removed]",
      "text/plain": [
       "<Figure size 1200x600 with 1 Axes>"
      ]
     },
     "metadata": {},
     "output_type": "display_data"
    }
   ],
   "source": [
    "plt.figure(figsize=(12,6))\n",
    "sns.violinplot(x='grade', y='price', data=df)\n",
    "plt.title('Price Distribution by House Grade')\n",
    "plt.ylabel('Price ($)')\n",
    "plt.xlabel('Grade')\n",
    "plt.yscale('log')\n",
    "plt.show()\n",
    "# Average Price by Zipcode (Bar Plot)"
   ]
  },
  {
   "cell_type": "markdown",
   "id": "796ec04e",
   "metadata": {},
   "source": [
    "## Jennifer Montgomery Match Table\n",
    "Properties matching all Jennifer’s criteria."
   ]
  },
  {
   "cell_type": "code",
   "execution_count": 17,
   "id": "929f6659",
   "metadata": {
    "vscode": {
     "languageId": "javascript"
    }
   },
   "outputs": [
    {
     "data": {
      "text/html": [
       "<div>\n",
       "<style scoped>\n",
       "    .dataframe tbody tr th:only-of-type {\n",
       "        vertical-align: middle;\n",
       "    }\n",
       "\n",
       "    .dataframe tbody tr th {\n",
       "        vertical-align: top;\n",
       "    }\n",
       "\n",
       "    .dataframe thead th {\n",
       "        text-align: right;\n",
       "    }\n",
       "</style>\n",
       "<table border=\"1\" class=\"dataframe\">\n",
       "  <thead>\n",
       "    <tr style=\"text-align: right;\">\n",
       "      <th></th>\n",
       "      <th>date</th>\n",
       "      <th>price</th>\n",
       "      <th>zipcode</th>\n",
       "      <th>bedrooms</th>\n",
       "      <th>sqft_living</th>\n",
       "      <th>grade</th>\n",
       "      <th>yr_renovated</th>\n",
       "      <th>view</th>\n",
       "      <th>waterfront</th>\n",
       "    </tr>\n",
       "  </thead>\n",
       "  <tbody>\n",
       "    <tr>\n",
       "      <th>74</th>\n",
       "      <td>2014-10-13</td>\n",
       "      <td>$7,700,000</td>\n",
       "      <td>98102</td>\n",
       "      <td>6.0</td>\n",
       "      <td>12050.0</td>\n",
       "      <td>13</td>\n",
       "      <td>19870</td>\n",
       "      <td>3.0</td>\n",
       "      <td>0.0</td>\n",
       "    </tr>\n",
       "    <tr>\n",
       "      <th>37</th>\n",
       "      <td>2014-06-11</td>\n",
       "      <td>$7,060,000</td>\n",
       "      <td>98004</td>\n",
       "      <td>5.0</td>\n",
       "      <td>10040.0</td>\n",
       "      <td>11</td>\n",
       "      <td>20010</td>\n",
       "      <td>2.0</td>\n",
       "      <td>1.0</td>\n",
       "    </tr>\n",
       "    <tr>\n",
       "      <th>81</th>\n",
       "      <td>2014-06-17</td>\n",
       "      <td>$4,670,000</td>\n",
       "      <td>98040</td>\n",
       "      <td>5.0</td>\n",
       "      <td>9640.0</td>\n",
       "      <td>12</td>\n",
       "      <td>20090</td>\n",
       "      <td>4.0</td>\n",
       "      <td>1.0</td>\n",
       "    </tr>\n",
       "    <tr>\n",
       "      <th>25</th>\n",
       "      <td>2014-11-18</td>\n",
       "      <td>$3,600,000</td>\n",
       "      <td>98144</td>\n",
       "      <td>3.0</td>\n",
       "      <td>5020.0</td>\n",
       "      <td>10</td>\n",
       "      <td>20020</td>\n",
       "      <td>4.0</td>\n",
       "      <td>1.0</td>\n",
       "    </tr>\n",
       "    <tr>\n",
       "      <th>107</th>\n",
       "      <td>2015-05-08</td>\n",
       "      <td>$3,400,000</td>\n",
       "      <td>98112</td>\n",
       "      <td>4.0</td>\n",
       "      <td>4260.0</td>\n",
       "      <td>11</td>\n",
       "      <td>20100</td>\n",
       "      <td>0.0</td>\n",
       "      <td>0.0</td>\n",
       "    </tr>\n",
       "    <tr>\n",
       "      <th>180</th>\n",
       "      <td>2014-12-30</td>\n",
       "      <td>$3,300,000</td>\n",
       "      <td>98008</td>\n",
       "      <td>3.0</td>\n",
       "      <td>4220.0</td>\n",
       "      <td>11</td>\n",
       "      <td>19870</td>\n",
       "      <td>4.0</td>\n",
       "      <td>1.0</td>\n",
       "    </tr>\n",
       "    <tr>\n",
       "      <th>79</th>\n",
       "      <td>2014-09-23</td>\n",
       "      <td>$3,200,000</td>\n",
       "      <td>98199</td>\n",
       "      <td>6.0</td>\n",
       "      <td>7100.0</td>\n",
       "      <td>13</td>\n",
       "      <td>20020</td>\n",
       "      <td>0.0</td>\n",
       "      <td>0.0</td>\n",
       "    </tr>\n",
       "    <tr>\n",
       "      <th>26</th>\n",
       "      <td>2015-02-02</td>\n",
       "      <td>$3,000,000</td>\n",
       "      <td>98004</td>\n",
       "      <td>5.0</td>\n",
       "      <td>5370.0</td>\n",
       "      <td>10</td>\n",
       "      <td>20080</td>\n",
       "      <td>0.0</td>\n",
       "      <td>0.0</td>\n",
       "    </tr>\n",
       "    <tr>\n",
       "      <th>137</th>\n",
       "      <td>2014-05-29</td>\n",
       "      <td>$2,750,000</td>\n",
       "      <td>98039</td>\n",
       "      <td>4.0</td>\n",
       "      <td>4430.0</td>\n",
       "      <td>10</td>\n",
       "      <td>20070</td>\n",
       "      <td>0.0</td>\n",
       "      <td>0.0</td>\n",
       "    </tr>\n",
       "    <tr>\n",
       "      <th>70</th>\n",
       "      <td>2014-06-24</td>\n",
       "      <td>$2,700,000</td>\n",
       "      <td>98040</td>\n",
       "      <td>5.0</td>\n",
       "      <td>3831.0</td>\n",
       "      <td>9</td>\n",
       "      <td>19800</td>\n",
       "      <td>4.0</td>\n",
       "      <td>1.0</td>\n",
       "    </tr>\n",
       "  </tbody>\n",
       "</table>\n",
       "</div>"
      ],
      "text/plain": [
       "           date       price  zipcode  bedrooms  sqft_living  grade  \\\n",
       "74   2014-10-13  $7,700,000    98102       6.0      12050.0     13   \n",
       "37   2014-06-11  $7,060,000    98004       5.0      10040.0     11   \n",
       "81   2014-06-17  $4,670,000    98040       5.0       9640.0     12   \n",
       "25   2014-11-18  $3,600,000    98144       3.0       5020.0     10   \n",
       "107  2015-05-08  $3,400,000    98112       4.0       4260.0     11   \n",
       "180  2014-12-30  $3,300,000    98008       3.0       4220.0     11   \n",
       "79   2014-09-23  $3,200,000    98199       6.0       7100.0     13   \n",
       "26   2015-02-02  $3,000,000    98004       5.0       5370.0     10   \n",
       "137  2014-05-29  $2,750,000    98039       4.0       4430.0     10   \n",
       "70   2014-06-24  $2,700,000    98040       5.0       3831.0      9   \n",
       "\n",
       "     yr_renovated  view  waterfront  \n",
       "74          19870   3.0         0.0  \n",
       "37          20010   2.0         1.0  \n",
       "81          20090   4.0         1.0  \n",
       "25          20020   4.0         1.0  \n",
       "107         20100   0.0         0.0  \n",
       "180         19870   4.0         1.0  \n",
       "79          20020   0.0         0.0  \n",
       "26          20080   0.0         0.0  \n",
       "137         20070   0.0         0.0  \n",
       "70          19800   4.0         1.0  "
      ]
     },
     "execution_count": 17,
     "metadata": {},
     "output_type": "execute_result"
    }
   ],
   "source": [
    "# Run this after loading the df from the previous query\n",
    "jennifer_match_table = df[[\n",
    "    'date',\n",
    "    'price',\n",
    "    'zipcode',\n",
    "    'bedrooms',\n",
    "    'sqft_living',\n",
    "    'grade',\n",
    "    'yr_renovated',\n",
    "    'view',\n",
    "    'waterfront'\n",
    "]].sort_values(by='price', ascending=False)\n",
    "\n",
    "# Optional: Format prices and date\n",
    "jennifer_match_table['price'] = jennifer_match_table['price'].map('${:,.0f}'.format)\n",
    "jennifer_match_table['date'] = pd.to_datetime(jennifer_match_table['date']).dt.date\n",
    "\n",
    "# Display the top 10 matching properties\n",
    "jennifer_match_table.head(10)\n"
   ]
  },
  {
   "cell_type": "markdown",
   "id": "825a853b",
   "metadata": {},
   "source": [
    "##  Heatmap: Correlation Between Features\n",
    "Purpose: Understand how variables (like grade, sqft, bedrooms) relate to price."
   ]
  },
  {
   "cell_type": "code",
   "execution_count": 18,
   "id": "842a2442",
   "metadata": {},
   "outputs": [
    {
     "data": {
      "text/plain": [
       "Text(0.5, 1.0, 'Correlation Heatmap')"
      ]
     },
     "execution_count": 18,
     "metadata": {},
     "output_type": "execute_result"
    },
    {
     "data": {
      "image/png": "[encoded data removed]",
      "text/plain": [
       "<Figure size 1000x800 with 2 Axes>"
      ]
     },
     "metadata": {},
     "output_type": "display_data"
    }
   ],
   "source": [
    "plt.figure(figsize=(10,8))\n",
    "sns.heatmap(df[['price', 'sqft_living', 'bedrooms', 'grade', 'view']].corr(), annot=True, cmap='coolwarm')\n",
    "plt.title(\"Correlation Heatmap\")\n"
   ]
  }
 ],
 "metadata": {
  "kernelspec": {
   "display_name": "3.11.3",
   "language": "python",
   "name": "python3"
  },
  "language_info": {
   "codemirror_mode": {
    "name": "ipython",
    "version": 3
   },
   "file_extension": ".py",
   "mimetype": "text/x-python",
   "name": "python",
   "nbconvert_exporter": "python",
   "pygments_lexer": "ipython3",
   "version": "3.11.3"
  }
 },
 "nbformat": 4,
 "nbformat_minor": 5
}
