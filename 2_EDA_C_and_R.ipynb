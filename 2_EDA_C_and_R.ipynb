{
 "cells": [
  {
   "cell_type": "markdown",
   "id": "ae56948c",
   "metadata": {},
   "source": [
    "# EDA for Jennifer Montgomery\n",
    "\n",
    "### Buyer: High budget, wants to show off, timing within a month, waterfront, renovated, high grades, resell within 1 year."
   ]
  },
  {
   "cell_type": "markdown",
   "id": "64df8eb9",
   "metadata": {
    "vscode": {
     "languageId": "plaintext"
    }
   },
   "source": [
    "## Setup and Import"
   ]
  },
  {
   "cell_type": "code",
   "execution_count": 20,
   "id": "8aba5076",
   "metadata": {},
   "outputs": [],
   "source": [
    "import plotly.express as px\n"
   ]
  },
  {
   "cell_type": "code",
   "execution_count": 21,
   "id": "20eeb5f8",
   "metadata": {},
   "outputs": [],
   "source": [
    "import matplotlib.pyplot as plt\n",
    "import seaborn as sns"
   ]
  },
  {
   "cell_type": "code",
   "execution_count": 4,
   "id": "0d25c0f2",
   "metadata": {},
   "outputs": [
    {
     "name": "stdout",
     "output_type": "stream",
     "text": [
      "         date      price    house_id  bedrooms  sqft_living  view  grade  \\\n",
      "0  2014-09-08   905000.0  1483300570       4.0       3300.0   0.0      7   \n",
      "1  2014-10-07  1090000.0  2450000295       3.0       2920.0   0.0      8   \n",
      "2  2015-03-02  1450000.0  4389200955       4.0       2750.0   0.0      8   \n",
      "3  2015-02-21  1510000.0    46100204       5.0       3300.0   3.0      9   \n",
      "4  2015-05-13  2050000.0  7424700045       5.0       3830.0   1.0      9   \n",
      "\n",
      "   yr_renovated  zipcode  waterfront  \n",
      "0         19910    98040         0.0  \n",
      "1         20100    98004         0.0  \n",
      "2         19920    98004         0.0  \n",
      "3         19910    98040         NaN  \n",
      "4         19940    98122         0.0  \n"
     ]
    }
   ],
   "source": [
    "import pandas as pd # Import packages\n",
    "csv_file_path = 'C:\\\\Users\\\\fr33c\\\\OneDrive\\\\Desktop\\\\AIPM\\\\ds-EDA-C-and-R\\\\data\\\\eda.csv' # Path to the CSV file\n",
    "df = pd.read_csv(csv_file_path) # Read the CSV file into a DataFrame\n",
    "print(df.head()) # Display the first few rows of the DataFrame"
   ]
  },
  {
   "cell_type": "markdown",
   "id": "bb0ab511",
   "metadata": {},
   "source": [
    "## Examining the Data"
   ]
  },
  {
   "cell_type": "code",
   "execution_count": 22,
   "id": "f646a2af",
   "metadata": {},
   "outputs": [
    {
     "name": "stdout",
     "output_type": "stream",
     "text": [
      "         date      price    house_id  bedrooms  sqft_living  view  grade  \\\n",
      "0  2014-09-08   905000.0  1483300570       4.0       3300.0   0.0      7   \n",
      "1  2014-10-07  1090000.0  2450000295       3.0       2920.0   0.0      8   \n",
      "2  2015-03-02  1450000.0  4389200955       4.0       2750.0   0.0      8   \n",
      "3  2015-02-21  1510000.0    46100204       5.0       3300.0   3.0      9   \n",
      "4  2015-05-13  2050000.0  7424700045       5.0       3830.0   1.0      9   \n",
      "\n",
      "   yr_renovated  zipcode  waterfront  renovated  \n",
      "0         19910    98040         0.0  Renovated  \n",
      "1         20100    98004         0.0  Renovated  \n",
      "2         19920    98004         0.0  Renovated  \n",
      "3         19910    98040         NaN  Renovated  \n",
      "4         19940    98122         0.0  Renovated  \n",
      "           date      price    house_id  bedrooms  sqft_living  view  grade  \\\n",
      "195  2014-07-14  1520000.0  2397100705       4.0       3650.0   0.0      9   \n",
      "196  2014-08-20  2160000.0  5553300375       3.0       3080.0   3.0     11   \n",
      "197  2014-07-08   950000.0   868000905       3.0       3480.0   0.0      7   \n",
      "198  2014-08-25   850000.0  1797500600       5.0       3150.0   0.0      8   \n",
      "199  2014-08-13  2400000.0  6072800265       4.0       3800.0   0.0     10   \n",
      "\n",
      "     yr_renovated  zipcode  waterfront  renovated  \n",
      "195         20140    98119         0.0  Renovated  \n",
      "196         20060    98199         0.0  Renovated  \n",
      "197         19980    98177         0.0  Renovated  \n",
      "198         20070    98115         0.0  Renovated  \n",
      "199         20090    98006         0.0  Renovated  \n",
      "<class 'pandas.core.frame.DataFrame'>\n",
      "RangeIndex: 200 entries, 0 to 199\n",
      "Data columns (total 11 columns):\n",
      " #   Column        Non-Null Count  Dtype  \n",
      "---  ------        --------------  -----  \n",
      " 0   date          200 non-null    object \n",
      " 1   price         200 non-null    float64\n",
      " 2   house_id      200 non-null    int64  \n",
      " 3   bedrooms      200 non-null    float64\n",
      " 4   sqft_living   200 non-null    float64\n",
      " 5   view          199 non-null    float64\n",
      " 6   grade         200 non-null    int64  \n",
      " 7   yr_renovated  200 non-null    int64  \n",
      " 8   zipcode       200 non-null    int64  \n",
      " 9   waterfront    173 non-null    float64\n",
      " 10  renovated     200 non-null    object \n",
      "dtypes: float64(5), int64(4), object(2)\n",
      "memory usage: 17.3+ KB\n",
      "None\n",
      "              price      house_id    bedrooms   sqft_living        view  \\\n",
      "count  2.000000e+02  2.000000e+02  200.000000    200.000000  199.000000   \n",
      "mean   1.419239e+06  4.219720e+09    4.080000   3513.450000    1.366834   \n",
      "std    8.587781e+05  2.891192e+09    0.937011   1154.844647    1.547597   \n",
      "min    7.550000e+05  3.100016e+07    3.000000   2520.000000    0.000000   \n",
      "25%    9.000000e+05  1.947040e+09    3.000000   2857.500000    0.000000   \n",
      "50%    1.180000e+06  3.526470e+09    4.000000   3255.000000    0.000000   \n",
      "75%    1.650000e+06  6.744700e+09    4.000000   3830.000000    3.000000   \n",
      "max    7.700000e+06  9.829200e+09    9.000000  12050.000000    4.000000   \n",
      "\n",
      "            grade  yr_renovated       zipcode  waterfront  \n",
      "count  200.000000    200.000000    200.000000  173.000000  \n",
      "mean     8.995000  20007.750000  98095.190000    0.098266  \n",
      "std      1.109563    108.509488     59.851524    0.298538  \n",
      "min      7.000000  19560.000000  98004.000000    0.000000  \n",
      "25%      8.000000  19940.000000  98040.000000    0.000000  \n",
      "50%      9.000000  20030.000000  98112.000000    0.000000  \n",
      "75%     10.000000  20080.000000  98136.000000    0.000000  \n",
      "max     13.000000  20150.000000  98199.000000    1.000000  \n",
      "Index(['date', 'price', 'house_id', 'bedrooms', 'sqft_living', 'view', 'grade',\n",
      "       'yr_renovated', 'zipcode', 'waterfront', 'renovated'],\n",
      "      dtype='object')\n",
      "date            134\n",
      "price           138\n",
      "house_id        200\n",
      "bedrooms          6\n",
      "sqft_living     127\n",
      "view              5\n",
      "grade             7\n",
      "yr_renovated     39\n",
      "zipcode          41\n",
      "waterfront        2\n",
      "renovated         1\n",
      "dtype: int64\n",
      "date             0\n",
      "price            0\n",
      "house_id         0\n",
      "bedrooms         0\n",
      "sqft_living      0\n",
      "view             1\n",
      "grade            0\n",
      "yr_renovated     0\n",
      "zipcode          0\n",
      "waterfront      27\n",
      "renovated        0\n",
      "dtype: int64\n"
     ]
    }
   ],
   "source": [
    "# Examine the usual suspects: head, tail, unique values etc.\n",
    "# Show the first 5 rows\n",
    "print(df.head())\n",
    "\n",
    "# Show the last 5 rows\n",
    "print(df.tail())\n",
    "\n",
    "# Show summary info (including datatypes and non-null counts)\n",
    "print(df.info())\n",
    "\n",
    "# Show basic statistics for numerical columns\n",
    "print(df.describe())\n",
    "\n",
    "# List all column names\n",
    "print(df.columns)\n",
    "\n",
    "# Get the number of unique values per column\n",
    "print(df.nunique())\n",
    "\n",
    "# Check for missing values per column\n",
    "print(df.isnull().sum())"
   ]
  },
  {
   "cell_type": "markdown",
   "id": "935045d1",
   "metadata": {},
   "source": [
    "# Visualisations"
   ]
  },
  {
   "cell_type": "markdown",
   "id": "7256ce10",
   "metadata": {},
   "source": [
    "## Correlation Between Features\n",
    "\n",
    "This heatmap shows how key features relate to each other. Price is strongly positively correlated with home size (sqft_living), quality (grade), and view. Bedrooms and year renovated have moderate positive correlations with price. Waterfront status also boosts price but not as much as we expected. Zipcode shows little direct correlation but represents location differences.\n",
    "\n"
   ]
  },
  {
   "cell_type": "code",
   "execution_count": 23,
   "id": "697ca490",
   "metadata": {},
   "outputs": [
    {
     "data": {
      "text/plain": [
       "Text(0.5, 1.0, 'Correlation Heatmap')"
      ]
     },
     "execution_count": 23,
     "metadata": {},
     "output_type": "execute_result"
    },
    {
     "data": {
      "image/png": "[encoded data removed]",
      "text/plain": [
       "<Figure size 1000x800 with 2 Axes>"
      ]
     },
     "metadata": {},
     "output_type": "display_data"
    }
   ],
   "source": [
    "plt.figure(figsize=(10,8))\n",
    "sns.heatmap(df[['price', 'sqft_living', 'bedrooms', 'grade', 'view', 'waterfront', 'yr_renovated', 'zipcode']].corr(), annot=True, cmap='coolwarm')\n",
    "plt.title(\"Correlation Heatmap\")"
   ]
  },
  {
   "cell_type": "markdown",
   "id": "4d083e79",
   "metadata": {},
   "source": [
    "## Average Home Price by Zip Code\n",
    "\n",
    "### Impact of Zip Code on Prices:\n",
    "This visualization displays the average home prices across different zip codes, providing a high-level overview of how housing prices vary geographically. Each bar represents the mean price of homes sold within a specific zip code, offering a quick comparison across regions."
   ]
  },
  {
   "cell_type": "code",
   "execution_count": 24,
   "id": "78d14a1a",
   "metadata": {},
   "outputs": [
    {
     "data": {
      "image/png": "[encoded data removed]",
      "text/plain": [
       "<Figure size 1400x600 with 1 Axes>"
      ]
     },
     "metadata": {},
     "output_type": "display_data"
    }
   ],
   "source": [
    "plt.figure(figsize=(14, 6))\n",
    "sns.boxplot(data=df, x='zipcode', y='price')  # assuming df has individual records\n",
    "plt.xticks(rotation=90)\n",
    "plt.title('Home Price Distribution by Zip Code')\n",
    "plt.ylabel('Price ($)')\n",
    "plt.xlabel('Zip Code')\n",
    "plt.tight_layout()\n",
    "plt.show()\n",
    "\n",
    "\n",
    "# 41 Zipcodes we filtered: 98004, 98005, 98006, 98007, 98008, 98023, 98027, 98033, 98039. 98040, 98052, 98053, 98058, 98070, 98072, 98074, 98075, 98077, 98102, 98103, 98105, 98107, 98109, 98112, 98115, 98116, 98117, 98118, 98119, 98122, 98125, 98126, 98136, 98144, 98146, 98155, 98166, 98177, 98178, 98198, 98199. "
   ]
  },
  {
   "cell_type": "markdown",
   "id": "728de370",
   "metadata": {},
   "source": [
    "### Waterfront vs Non-Waterfront Prices:\n",
    "Waterfront homes generally have higher prices compared to non-waterfront homes, confirming the premium buyers place on waterfront access.\n",
    "The median price (the middle line of the box) for waterfront properties is noticeably higher.\n",
    "\n",
    "The price range for waterfront homes is wider, showing more variability — some very expensive homes but also some more affordable ones.\n",
    "\n",
    "Using the log scale on the price axis helps to see the distribution clearly since house prices can vary a lot.\n",
    "\n",
    "Conclusion:\n",
    "Waterfront location significantly increases house prices in this dataset, but prices also vary widely, likely depending on other factors like size, grade, renovation, etc."
   ]
  },
  {
   "cell_type": "code",
   "execution_count": 25,
   "id": "67c24f27",
   "metadata": {
    "vscode": {
     "languageId": "javascript"
    }
   },
   "outputs": [
    {
     "data": {
      "application/vnd.plotly.v1+json": {
       "config": {
        "plotlyServerURL": "https://plot.ly"
       },
       "data": [
        {
         "bingroup": "x",
         "histnorm": "density",
         "hovertemplate": "Waterfront=0.0<br>Price ($)=%{x}<br>density=%{y}<extra></extra>",
         "legendgroup": "0.0",
         "marker": {
          "color": "#636efa",
          "opacity": 0.5,
          "pattern": {
           "shape": ""
          }
         },
         "name": "0.0",
         "nbinsx": 50,
         "opacity": 0.6,
         "orientation": "v",
         "showlegend": true,
         "type": "histogram",
         "x": {
          "bdata": "AAAAAFCeK0EAAAAA0KEwQQAAAAAQIDZBAAAAANBHP0EAAAAA8LM6QQAAAACAwDRBAAAAAFBLNEEAAAAA4MgwQQAAAACAdyxBAAAAAJAFMEEAAAAAYFQpQQAAAADY7UFBAAAAAKDwKUEAAAAAkAUwQQAAAADgjCpBAAAAAEAGOUEAAAAAQHcrQQAAAABwCjdBAAAAAMBcNUEAAAAAYONGQQAAAABoTUNBAAAAAOD9LEEAAAAAQHcrQQAAAABwCjdBAAAAACBlMUEAAAAAsBcqQQAAAAAAajhBAAAAALCmJ0EAAAAA4Iw6QQAAAABg4zZBAAAAALQtKUEAAAAAMN8oQQAAAAAAaihBAAAAAAC9L0EAAAAAULw2QQAAAADAXDVBAAAAAECzMUEAAAAAcHspQQAAAABUlCdBAAAAAECzMUEAAAAAAGooQQAAAACg8DlBAAAAAEDoLUEAAAAAwD4qQQAAAACATzJBAAAAAOBuL0EAAAAAAIgzQQAAAAAYWipBAAAAAOBuL0EAAAAAsKYnQQAAAAAQrzNBAAAAAMAgL0EAAAAA4IwqQQAAAADIN0RBAAAAAOAbKEEAAAAAYDYuQQAAAACQWCdBAAAAAIhfXUEAAAAAAGo4QQAAAADwYDNBAAAAAFAtOUEAAAAAAGpIQQAAAABYtUBBAAAAAGBUOUEAAAAA7GkoQQAAAACwfC5BAAAAALCmJ0EAAAAAULw2QQAAAACAhC5BAAAAAPAkPUEAAAAAwFw1QQAAAACIaytBAAAAADDBLUEAAAAAwM0nQQAAAACg8DlBAAAAAICoKEEAAAAAoH83QQAAAAA8/CdBAAAAAFAOKkEAAAAAoJ0yQQAAAADAejBBAAAAAHAKJ0EAAAAAgKIpQQAAAADQEjNBAAAAAKDwSUEAAAAAkAVAQQAAAACwFzpBAAAAACDWM0EAAAAAoPApQQAAAABwKDJBAAAAAKDwKUEAAAAAwFw1QQAAAAAAiDNBAAAAAOAbOEEAAAAAQHcrQQAAAACYFStBAAAAAHAoMkEAAAAAoPApQQAAAAAIY0JBAAAAAPCzOkEAAAAA8LMqQQAAAABQLTlBAAAAACBlMUEAAAAAkDosQQAAAADAzSdBAAAAAOD9PEEAAAAA4JIpQQAAAAAguChBAAAAABj7REEAAAAAIJotQQAAAADgyDBBAAAAAGByNEEAAAAAMME9QQAAAADgyDBBAAAAAODIQEEAAAAA4HQuQQAAAACQUihBAAAAANBlKkEAAAAAEJEoQQAAAABgxStBAAAAACCaLUEAAAAA4P08QQAAAACAojlBAAAAAGDFK0EAAAAAUC0pQQAAAACQLi5BAAAAANBlKkEAAAAAMP0zQQAAAACgLDBBAAAAAGDjNkEAAAAAcJk0QQAAAAAgFy5BAAAAADCMQUEAAAAAgE8yQQAAAADw0TVBAAAAALA1NUEAAAAAsIg8QQAAAAAgmi1BAAAAAAD5NUEAAAAA0BIzQQAAAABQLSlBAAAAAPiKLUEAAAAAUC0pQQAAAABQLTlBAAAAAODIMEEAAAAAMFYqQQAAAABAJDRBAAAAAFDaMUEAAAAAQLMxQQAAAABA6C1BAAAAAKBhLEEAAAAAgDE3QQAAAADAekBBAAAAAOD9LEEAAAAAoPApQQAAAACAT0JB",
          "dtype": "f8"
         },
         "xaxis": "x",
         "yaxis": "y"
        },
        {
         "bingroup": "x",
         "histnorm": "density",
         "hovertemplate": "Waterfront=1.0<br>Price ($)=%{x}<br>density=%{y}<extra></extra>",
         "legendgroup": "1.0",
         "marker": {
          "color": "#00cc96",
          "opacity": 0.5,
          "pattern": {
           "shape": ""
          }
         },
         "name": "1.0",
         "nbinsx": 50,
         "opacity": 0.6,
         "orientation": "v",
         "showlegend": true,
         "type": "histogram",
         "x": {
          "bdata": "AAAAAHBdLkEAAAAAQHdLQQAAAACI7lpBAAAAAKAONUEAAAAAMIwxQQAAAACQOjxBAAAAAODIMEEAAAAAcJlEQQAAAACM0FFBAAAAAEB3O0EAAAAA4P08QQAAAABABjlBAAAAAEAGKUEAAAAA0Ec/QQAAAABQLUlBAAAAALDEMkEAAAAAwFw1QQ==",
          "dtype": "f8"
         },
         "xaxis": "x",
         "yaxis": "y"
        }
       ],
       "layout": {
        "barmode": "overlay",
        "legend": {
         "title": {
          "text": "Waterfront"
         },
         "tracegroupgap": 0
        },
        "template": {
         "data": {
          "bar": [
           {
            "error_x": {
             "color": "#2a3f5f"
            },
            "error_y": {
             "color": "#2a3f5f"
            },
            "marker": {
             "line": {
              "color": "#E5ECF6",
              "width": 0.5
             },
             "pattern": {
              "fillmode": "overlay",
              "size": 10,
              "solidity": 0.2
             }
            },
            "type": "bar"
           }
          ],
          "barpolar": [
           {
            "marker": {
             "line": {
              "color": "#E5ECF6",
              "width": 0.5
             },
             "pattern": {
              "fillmode": "overlay",
              "size": 10,
              "solidity": 0.2
             }
            },
            "type": "barpolar"
           }
          ],
          "carpet": [
           {
            "aaxis": {
             "endlinecolor": "#2a3f5f",
             "gridcolor": "white",
             "linecolor": "white",
             "minorgridcolor": "white",
             "startlinecolor": "#2a3f5f"
            },
            "baxis": {
             "endlinecolor": "#2a3f5f",
             "gridcolor": "white",
             "linecolor": "white",
             "minorgridcolor": "white",
             "startlinecolor": "#2a3f5f"
            },
            "type": "carpet"
           }
          ],
          "choropleth": [
           {
            "colorbar": {
             "outlinewidth": 0,
             "ticks": ""
            },
            "type": "choropleth"
           }
          ],
          "contour": [
           {
            "colorbar": {
             "outlinewidth": 0,
             "ticks": ""
            },
            "colorscale": [
             [
              0,
              "#0d0887"
             ],
             [
              0.1111111111111111,
              "#46039f"
             ],
             [
              0.2222222222222222,
              "#7201a8"
             ],
             [
              0.3333333333333333,
              "#9c179e"
             ],
             [
              0.4444444444444444,
              "#bd3786"
             ],
             [
              0.5555555555555556,
              "#d8576b"
             ],
             [
              0.6666666666666666,
              "#ed7953"
             ],
             [
              0.7777777777777778,
              "#fb9f3a"
             ],
             [
              0.8888888888888888,
              "#fdca26"
             ],
             [
              1,
              "#f0f921"
             ]
            ],
            "type": "contour"
           }
          ],
          "contourcarpet": [
           {
            "colorbar": {
             "outlinewidth": 0,
             "ticks": ""
            },
            "type": "contourcarpet"
           }
          ],
          "heatmap": [
           {
            "colorbar": {
             "outlinewidth": 0,
             "ticks": ""
            },
            "colorscale": [
             [
              0,
              "#0d0887"
             ],
             [
              0.1111111111111111,
              "#46039f"
             ],
             [
              0.2222222222222222,
              "#7201a8"
             ],
             [
              0.3333333333333333,
              "#9c179e"
             ],
             [
              0.4444444444444444,
              "#bd3786"
             ],
             [
              0.5555555555555556,
              "#d8576b"
             ],
             [
              0.6666666666666666,
              "#ed7953"
             ],
             [
              0.7777777777777778,
              "#fb9f3a"
             ],
             [
              0.8888888888888888,
              "#fdca26"
             ],
             [
              1,
              "#f0f921"
             ]
            ],
            "type": "heatmap"
           }
          ],
          "histogram": [
           {
            "marker": {
             "pattern": {
              "fillmode": "overlay",
              "size": 10,
              "solidity": 0.2
             }
            },
            "type": "histogram"
           }
          ],
          "histogram2d": [
           {
            "colorbar": {
             "outlinewidth": 0,
             "ticks": ""
            },
            "colorscale": [
             [
              0,
              "#0d0887"
             ],
             [
              0.1111111111111111,
              "#46039f"
             ],
             [
              0.2222222222222222,
              "#7201a8"
             ],
             [
              0.3333333333333333,
              "#9c179e"
             ],
             [
              0.4444444444444444,
              "#bd3786"
             ],
             [
              0.5555555555555556,
              "#d8576b"
             ],
             [
              0.6666666666666666,
              "#ed7953"
             ],
             [
              0.7777777777777778,
              "#fb9f3a"
             ],
             [
              0.8888888888888888,
              "#fdca26"
             ],
             [
              1,
              "#f0f921"
             ]
            ],
            "type": "histogram2d"
           }
          ],
          "histogram2dcontour": [
           {
            "colorbar": {
             "outlinewidth": 0,
             "ticks": ""
            },
            "colorscale": [
             [
              0,
              "#0d0887"
             ],
             [
              0.1111111111111111,
              "#46039f"
             ],
             [
              0.2222222222222222,
              "#7201a8"
             ],
             [
              0.3333333333333333,
              "#9c179e"
             ],
             [
              0.4444444444444444,
              "#bd3786"
             ],
             [
              0.5555555555555556,
              "#d8576b"
             ],
             [
              0.6666666666666666,
              "#ed7953"
             ],
             [
              0.7777777777777778,
              "#fb9f3a"
             ],
             [
              0.8888888888888888,
              "#fdca26"
             ],
             [
              1,
              "#f0f921"
             ]
            ],
            "type": "histogram2dcontour"
           }
          ],
          "mesh3d": [
           {
            "colorbar": {
             "outlinewidth": 0,
             "ticks": ""
            },
            "type": "mesh3d"
           }
          ],
          "parcoords": [
           {
            "line": {
             "colorbar": {
              "outlinewidth": 0,
              "ticks": ""
             }
            },
            "type": "parcoords"
           }
          ],
          "pie": [
           {
            "automargin": true,
            "type": "pie"
           }
          ],
          "scatter": [
           {
            "fillpattern": {
             "fillmode": "overlay",
             "size": 10,
             "solidity": 0.2
            },
            "type": "scatter"
           }
          ],
          "scatter3d": [
           {
            "line": {
             "colorbar": {
              "outlinewidth": 0,
              "ticks": ""
             }
            },
            "marker": {
             "colorbar": {
              "outlinewidth": 0,
              "ticks": ""
             }
            },
            "type": "scatter3d"
           }
          ],
          "scattercarpet": [
           {
            "marker": {
             "colorbar": {
              "outlinewidth": 0,
              "ticks": ""
             }
            },
            "type": "scattercarpet"
           }
          ],
          "scattergeo": [
           {
            "marker": {
             "colorbar": {
              "outlinewidth": 0,
              "ticks": ""
             }
            },
            "type": "scattergeo"
           }
          ],
          "scattergl": [
           {
            "marker": {
             "colorbar": {
              "outlinewidth": 0,
              "ticks": ""
             }
            },
            "type": "scattergl"
           }
          ],
          "scattermap": [
           {
            "marker": {
             "colorbar": {
              "outlinewidth": 0,
              "ticks": ""
             }
            },
            "type": "scattermap"
           }
          ],
          "scattermapbox": [
           {
            "marker": {
             "colorbar": {
              "outlinewidth": 0,
              "ticks": ""
             }
            },
            "type": "scattermapbox"
           }
          ],
          "scatterpolar": [
           {
            "marker": {
             "colorbar": {
              "outlinewidth": 0,
              "ticks": ""
             }
            },
            "type": "scatterpolar"
           }
          ],
          "scatterpolargl": [
           {
            "marker": {
             "colorbar": {
              "outlinewidth": 0,
              "ticks": ""
             }
            },
            "type": "scatterpolargl"
           }
          ],
          "scatterternary": [
           {
            "marker": {
             "colorbar": {
              "outlinewidth": 0,
              "ticks": ""
             }
            },
            "type": "scatterternary"
           }
          ],
          "surface": [
           {
            "colorbar": {
             "outlinewidth": 0,
             "ticks": ""
            },
            "colorscale": [
             [
              0,
              "#0d0887"
             ],
             [
              0.1111111111111111,
              "#46039f"
             ],
             [
              0.2222222222222222,
              "#7201a8"
             ],
             [
              0.3333333333333333,
              "#9c179e"
             ],
             [
              0.4444444444444444,
              "#bd3786"
             ],
             [
              0.5555555555555556,
              "#d8576b"
             ],
             [
              0.6666666666666666,
              "#ed7953"
             ],
             [
              0.7777777777777778,
              "#fb9f3a"
             ],
             [
              0.8888888888888888,
              "#fdca26"
             ],
             [
              1,
              "#f0f921"
             ]
            ],
            "type": "surface"
           }
          ],
          "table": [
           {
            "cells": {
             "fill": {
              "color": "#EBF0F8"
             },
             "line": {
              "color": "white"
             }
            },
            "header": {
             "fill": {
              "color": "#C8D4E3"
             },
             "line": {
              "color": "white"
             }
            },
            "type": "table"
           }
          ]
         },
         "layout": {
          "annotationdefaults": {
           "arrowcolor": "#2a3f5f",
           "arrowhead": 0,
           "arrowwidth": 1
          },
          "autotypenumbers": "strict",
          "coloraxis": {
           "colorbar": {
            "outlinewidth": 0,
            "ticks": ""
           }
          },
          "colorscale": {
           "diverging": [
            [
             0,
             "#8e0152"
            ],
            [
             0.1,
             "#c51b7d"
            ],
            [
             0.2,
             "#de77ae"
            ],
            [
             0.3,
             "#f1b6da"
            ],
            [
             0.4,
             "#fde0ef"
            ],
            [
             0.5,
             "#f7f7f7"
            ],
            [
             0.6,
             "#e6f5d0"
            ],
            [
             0.7,
             "#b8e186"
            ],
            [
             0.8,
             "#7fbc41"
            ],
            [
             0.9,
             "#4d9221"
            ],
            [
             1,
             "#276419"
            ]
           ],
           "sequential": [
            [
             0,
             "#0d0887"
            ],
            [
             0.1111111111111111,
             "#46039f"
            ],
            [
             0.2222222222222222,
             "#7201a8"
            ],
            [
             0.3333333333333333,
             "#9c179e"
            ],
            [
             0.4444444444444444,
             "#bd3786"
            ],
            [
             0.5555555555555556,
             "#d8576b"
            ],
            [
             0.6666666666666666,
             "#ed7953"
            ],
            [
             0.7777777777777778,
             "#fb9f3a"
            ],
            [
             0.8888888888888888,
             "#fdca26"
            ],
            [
             1,
             "#f0f921"
            ]
           ],
           "sequentialminus": [
            [
             0,
             "#0d0887"
            ],
            [
             0.1111111111111111,
             "#46039f"
            ],
            [
             0.2222222222222222,
             "#7201a8"
            ],
            [
             0.3333333333333333,
             "#9c179e"
            ],
            [
             0.4444444444444444,
             "#bd3786"
            ],
            [
             0.5555555555555556,
             "#d8576b"
            ],
            [
             0.6666666666666666,
             "#ed7953"
            ],
            [
             0.7777777777777778,
             "#fb9f3a"
            ],
            [
             0.8888888888888888,
             "#fdca26"
            ],
            [
             1,
             "#f0f921"
            ]
           ]
          },
          "colorway": [
           "#636efa",
           "#EF553B",
           "#00cc96",
           "#ab63fa",
           "#FFA15A",
           "#19d3f3",
           "#FF6692",
           "#B6E880",
           "#FF97FF",
           "#FECB52"
          ],
          "font": {
           "color": "#2a3f5f"
          },
          "geo": {
           "bgcolor": "white",
           "lakecolor": "white",
           "landcolor": "#E5ECF6",
           "showlakes": true,
           "showland": true,
           "subunitcolor": "white"
          },
          "hoverlabel": {
           "align": "left"
          },
          "hovermode": "closest",
          "mapbox": {
           "style": "light"
          },
          "paper_bgcolor": "white",
          "plot_bgcolor": "#E5ECF6",
          "polar": {
           "angularaxis": {
            "gridcolor": "white",
            "linecolor": "white",
            "ticks": ""
           },
           "bgcolor": "#E5ECF6",
           "radialaxis": {
            "gridcolor": "white",
            "linecolor": "white",
            "ticks": ""
           }
          },
          "scene": {
           "xaxis": {
            "backgroundcolor": "#E5ECF6",
            "gridcolor": "white",
            "gridwidth": 2,
            "linecolor": "white",
            "showbackground": true,
            "ticks": "",
            "zerolinecolor": "white"
           },
           "yaxis": {
            "backgroundcolor": "#E5ECF6",
            "gridcolor": "white",
            "gridwidth": 2,
            "linecolor": "white",
            "showbackground": true,
            "ticks": "",
            "zerolinecolor": "white"
           },
           "zaxis": {
            "backgroundcolor": "#E5ECF6",
            "gridcolor": "white",
            "gridwidth": 2,
            "linecolor": "white",
            "showbackground": true,
            "ticks": "",
            "zerolinecolor": "white"
           }
          },
          "shapedefaults": {
           "line": {
            "color": "#2a3f5f"
           }
          },
          "ternary": {
           "aaxis": {
            "gridcolor": "white",
            "linecolor": "white",
            "ticks": ""
           },
           "baxis": {
            "gridcolor": "white",
            "linecolor": "white",
            "ticks": ""
           },
           "bgcolor": "#E5ECF6",
           "caxis": {
            "gridcolor": "white",
            "linecolor": "white",
            "ticks": ""
           }
          },
          "title": {
           "x": 0.05
          },
          "xaxis": {
           "automargin": true,
           "gridcolor": "white",
           "linecolor": "white",
           "ticks": "",
           "title": {
            "standoff": 15
           },
           "zerolinecolor": "white",
           "zerolinewidth": 2
          },
          "yaxis": {
           "automargin": true,
           "gridcolor": "white",
           "linecolor": "white",
           "ticks": "",
           "title": {
            "standoff": 15
           },
           "zerolinecolor": "white",
           "zerolinewidth": 2
          }
         }
        },
        "title": {
         "text": "Price Distribution: Waterfront vs Non-Waterfront"
        },
        "xaxis": {
         "anchor": "y",
         "domain": [
          0,
          1
         ],
         "title": {
          "text": "Price ($)"
         },
         "type": "log"
        },
        "yaxis": {
         "anchor": "x",
         "domain": [
          0,
          1
         ],
         "title": {
          "text": "Density"
         },
         "type": "log"
        }
       }
      }
     },
     "metadata": {},
     "output_type": "display_data"
    }
   ],
   "source": [
    "fig = px.histogram(\n",
    "    df, \n",
    "    x='price', \n",
    "    color='waterfront',\n",
    "    barmode='overlay',  # or 'group' for side-by-side\n",
    "    histnorm='density',  # normalize to show distribution\n",
    "    nbins=50,\n",
    "    log_y=True,  # log scale for better readability\n",
    "    labels={'waterfront': 'Waterfront', 'price': 'Price ($)'},\n",
    "    title='Price Distribution: Waterfront vs Non-Waterfront'\n",
    ")\n",
    "\n",
    "fig.update_traces(opacity=0.6)\n",
    "fig.update_layout(\n",
    "    legend_title_text='Waterfront',\n",
    "    xaxis_title='Price ($)',\n",
    "    yaxis_title='Density',\n",
    ")\n",
    "fig.update_xaxes(type='log')  # log scale for x-axis (prices)\n",
    "fig.show()\n"
   ]
  },
  {
   "cell_type": "markdown",
   "id": "351ec8ae",
   "metadata": {},
   "source": [
    "## Distribution of Home Prices Across Property Grade\n",
    "\n",
    "This plot will help you visualize how prices vary across different property grades. Higher grades generally show higher price ranges and medians, and using a log scale will make the distribution clearer by minimizing the impact of extreme outliers."
   ]
  },
  {
   "cell_type": "code",
   "execution_count": 26,
   "id": "46c47cb0",
   "metadata": {
    "vscode": {
     "languageId": "javascript"
    }
   },
   "outputs": [
    {
     "name": "stderr",
     "output_type": "stream",
     "text": [
      "C:\\Users\\fr33c\\AppData\\Local\\Temp\\ipykernel_4800\\2448435973.py:2: FutureWarning:\n",
      "\n",
      "\n",
      "\n",
      "Passing `palette` without assigning `hue` is deprecated and will be removed in v0.14.0. Assign the `x` variable to `hue` and set `legend=False` for the same effect.\n",
      "\n",
      "\n"
     ]
    },
    {
     "data": {
      "image/png": "[encoded data removed]",
      "text/plain": [
       "<Figure size 1200x600 with 1 Axes>"
      ]
     },
     "metadata": {},
     "output_type": "display_data"
    }
   ],
   "source": [
    "plt.figure(figsize=(12, 6))\n",
    "sns.boxplot(data=df, x='grade', y='price', palette='Set3')  # Try 'Set3', 'Spectral', or 'husl'\n",
    "plt.title('Price Distribution by Grade')\n",
    "plt.xlabel('Grade')\n",
    "plt.ylabel('Price ($)')\n",
    "plt.yscale('log')  # Log scale helps manage outliers\n",
    "plt.tight_layout()\n",
    "plt.show()\n",
    "\n"
   ]
  },
  {
   "cell_type": "markdown",
   "id": "f92ef9dd",
   "metadata": {},
   "source": [
    "## Grade vs. Year Renovated\n",
    "\n",
    "This scatter plot shows the relationship between the grade of the house (which indicates construction quality and design) and the year it was renovated for waterfront properties that meet Jennifer’s criteria. Each point represents a home, colored by its price.\n",
    "\n",
    "This plot highlights the importance of both renovation recency and home grade in influencing the price for waterfront properties. Recently renovated doesn’t mean better grade or higher Price, there is no direct correlation.\n",
    "\n"
   ]
  },
  {
   "cell_type": "code",
   "execution_count": 33,
   "id": "1e2fa361",
   "metadata": {
    "vscode": {
     "languageId": "javascript"
    }
   },
   "outputs": [],
   "source": [
    "jennifer_filtered = df[\n",
    "    (df['waterfront'] == 1) &\n",
    "    (df['yr_renovated'] > 0) &\n",
    "    (df['price'] > 750_000)\n",
    "]\n"
   ]
  },
  {
   "cell_type": "code",
   "execution_count": 34,
   "id": "0d31d855",
   "metadata": {
    "vscode": {
     "languageId": "javascript"
    }
   },
   "outputs": [
    {
     "data": {
      "application/vnd.plotly.v1+json": {
       "config": {
        "plotlyServerURL": "https://plot.ly"
       },
       "data": [
        {
         "customdata": {
          "bdata": "AAAAAAAACEAAAAAAAByxQAAAAAAAAAhAAAAAAACcs0AAAAAAAAAUQAAAAAAAnMNAAAAAAAAACEAAAAAAAJStQAAAAAAAAAhAAAAAAAA8qUAAAAAAAAAUQAAAAAAA4KVAAAAAAAAAEEAAAAAAAOyoQAAAAAAAABRAAAAAAADurUAAAAAAAAAUQAAAAAAA1MJAAAAAAAAACEAAAAAAAMylQAAAAAAAABhAAAAAAACYp0AAAAAAAAAIQAAAAAAANLJAAAAAAAAACEAAAAAAAFynQAAAAAAAABBAAAAAAAD4q0AAAAAAAAAIQAAAAAAAfLBAAAAAAAAAEEAAAAAAAGCoQAAAAAAAAAhAAAAAAAB0qEA=",
          "dtype": "f8",
          "shape": "17, 2"
         },
         "hovertemplate": "<b>%{hovertext}</b><br><br>grade=%{x}<br>yr_renovated=%{y}<br>size=%{marker.size}<br>bedrooms=%{customdata[0]}<br>sqft_living=%{customdata[1]}<br>price=%{marker.color}<extra></extra>",
         "hovertext": {
          "bdata": "AAAAAGD390AAAAAAAPb3QAAAAABA7fdAAAAAAGDx90AAAAAAcO73QAAAAACw8fdAAAAAACD490AAAAAAgO/3QAAAAACA7/dAAAAAAGDt90AAAAAAAPb3QAAAAABg9/dAAAAAAGD590AAAAAA0PT3QAAAAACA7fdAAAAAAGD590AAAAAAgO33QA==",
          "dtype": "f8"
         },
         "legendgroup": "",
         "marker": {
          "color": {
           "bdata": "AAAAAHBdLkEAAAAAQHdLQQAAAACI7lpBAAAAAKAONUEAAAAAMIwxQQAAAACQOjxBAAAAAODIMEEAAAAAcJlEQQAAAACM0FFBAAAAAEB3O0EAAAAA4P08QQAAAABABjlBAAAAAEAGKUEAAAAA0Ec/QQAAAABQLUlBAAAAALDEMkEAAAAAwFw1QQ==",
           "dtype": "f8"
          },
          "coloraxis": "coloraxis",
          "size": {
           "bdata": "CgoKCgoKCgoKCgoKCgoKCgo=",
           "dtype": "i1"
          },
          "sizemode": "area",
          "sizeref": 0.1,
          "symbol": "circle"
         },
         "mode": "markers",
         "name": "",
         "orientation": "v",
         "showlegend": false,
         "type": "scatter",
         "x": {
          "bdata": "CQoLCQcJCAkMCggMCQcLCQg=",
          "dtype": "i1"
         },
         "xaxis": "x",
         "y": {
          "bdata": "vE00TipOXE7aTSpOxk1YTXpOsk12TbxNxk3CTJ5Nsk2ATQ==",
          "dtype": "i2"
         },
         "yaxis": "y"
        }
       ],
       "layout": {
        "coloraxis": {
         "colorbar": {
          "title": {
           "text": "price"
          }
         },
         "colorscale": [
          [
           0,
           "#0d0887"
          ],
          [
           0.1111111111111111,
           "#46039f"
          ],
          [
           0.2222222222222222,
           "#7201a8"
          ],
          [
           0.3333333333333333,
           "#9c179e"
          ],
          [
           0.4444444444444444,
           "#bd3786"
          ],
          [
           0.5555555555555556,
           "#d8576b"
          ],
          [
           0.6666666666666666,
           "#ed7953"
          ],
          [
           0.7777777777777778,
           "#fb9f3a"
          ],
          [
           0.8888888888888888,
           "#fdca26"
          ],
          [
           1,
           "#f0f921"
          ]
         ]
        },
        "legend": {
         "itemsizing": "constant",
         "tracegroupgap": 0
        },
        "template": {
         "data": {
          "bar": [
           {
            "error_x": {
             "color": "#2a3f5f"
            },
            "error_y": {
             "color": "#2a3f5f"
            },
            "marker": {
             "line": {
              "color": "#E5ECF6",
              "width": 0.5
             },
             "pattern": {
              "fillmode": "overlay",
              "size": 10,
              "solidity": 0.2
             }
            },
            "type": "bar"
           }
          ],
          "barpolar": [
           {
            "marker": {
             "line": {
              "color": "#E5ECF6",
              "width": 0.5
             },
             "pattern": {
              "fillmode": "overlay",
              "size": 10,
              "solidity": 0.2
             }
            },
            "type": "barpolar"
           }
          ],
          "carpet": [
           {
            "aaxis": {
             "endlinecolor": "#2a3f5f",
             "gridcolor": "white",
             "linecolor": "white",
             "minorgridcolor": "white",
             "startlinecolor": "#2a3f5f"
            },
            "baxis": {
             "endlinecolor": "#2a3f5f",
             "gridcolor": "white",
             "linecolor": "white",
             "minorgridcolor": "white",
             "startlinecolor": "#2a3f5f"
            },
            "type": "carpet"
           }
          ],
          "choropleth": [
           {
            "colorbar": {
             "outlinewidth": 0,
             "ticks": ""
            },
            "type": "choropleth"
           }
          ],
          "contour": [
           {
            "colorbar": {
             "outlinewidth": 0,
             "ticks": ""
            },
            "colorscale": [
             [
              0,
              "#0d0887"
             ],
             [
              0.1111111111111111,
              "#46039f"
             ],
             [
              0.2222222222222222,
              "#7201a8"
             ],
             [
              0.3333333333333333,
              "#9c179e"
             ],
             [
              0.4444444444444444,
              "#bd3786"
             ],
             [
              0.5555555555555556,
              "#d8576b"
             ],
             [
              0.6666666666666666,
              "#ed7953"
             ],
             [
              0.7777777777777778,
              "#fb9f3a"
             ],
             [
              0.8888888888888888,
              "#fdca26"
             ],
             [
              1,
              "#f0f921"
             ]
            ],
            "type": "contour"
           }
          ],
          "contourcarpet": [
           {
            "colorbar": {
             "outlinewidth": 0,
             "ticks": ""
            },
            "type": "contourcarpet"
           }
          ],
          "heatmap": [
           {
            "colorbar": {
             "outlinewidth": 0,
             "ticks": ""
            },
            "colorscale": [
             [
              0,
              "#0d0887"
             ],
             [
              0.1111111111111111,
              "#46039f"
             ],
             [
              0.2222222222222222,
              "#7201a8"
             ],
             [
              0.3333333333333333,
              "#9c179e"
             ],
             [
              0.4444444444444444,
              "#bd3786"
             ],
             [
              0.5555555555555556,
              "#d8576b"
             ],
             [
              0.6666666666666666,
              "#ed7953"
             ],
             [
              0.7777777777777778,
              "#fb9f3a"
             ],
             [
              0.8888888888888888,
              "#fdca26"
             ],
             [
              1,
              "#f0f921"
             ]
            ],
            "type": "heatmap"
           }
          ],
          "histogram": [
           {
            "marker": {
             "pattern": {
              "fillmode": "overlay",
              "size": 10,
              "solidity": 0.2
             }
            },
            "type": "histogram"
           }
          ],
          "histogram2d": [
           {
            "colorbar": {
             "outlinewidth": 0,
             "ticks": ""
            },
            "colorscale": [
             [
              0,
              "#0d0887"
             ],
             [
              0.1111111111111111,
              "#46039f"
             ],
             [
              0.2222222222222222,
              "#7201a8"
             ],
             [
              0.3333333333333333,
              "#9c179e"
             ],
             [
              0.4444444444444444,
              "#bd3786"
             ],
             [
              0.5555555555555556,
              "#d8576b"
             ],
             [
              0.6666666666666666,
              "#ed7953"
             ],
             [
              0.7777777777777778,
              "#fb9f3a"
             ],
             [
              0.8888888888888888,
              "#fdca26"
             ],
             [
              1,
              "#f0f921"
             ]
            ],
            "type": "histogram2d"
           }
          ],
          "histogram2dcontour": [
           {
            "colorbar": {
             "outlinewidth": 0,
             "ticks": ""
            },
            "colorscale": [
             [
              0,
              "#0d0887"
             ],
             [
              0.1111111111111111,
              "#46039f"
             ],
             [
              0.2222222222222222,
              "#7201a8"
             ],
             [
              0.3333333333333333,
              "#9c179e"
             ],
             [
              0.4444444444444444,
              "#bd3786"
             ],
             [
              0.5555555555555556,
              "#d8576b"
             ],
             [
              0.6666666666666666,
              "#ed7953"
             ],
             [
              0.7777777777777778,
              "#fb9f3a"
             ],
             [
              0.8888888888888888,
              "#fdca26"
             ],
             [
              1,
              "#f0f921"
             ]
            ],
            "type": "histogram2dcontour"
           }
          ],
          "mesh3d": [
           {
            "colorbar": {
             "outlinewidth": 0,
             "ticks": ""
            },
            "type": "mesh3d"
           }
          ],
          "parcoords": [
           {
            "line": {
             "colorbar": {
              "outlinewidth": 0,
              "ticks": ""
             }
            },
            "type": "parcoords"
           }
          ],
          "pie": [
           {
            "automargin": true,
            "type": "pie"
           }
          ],
          "scatter": [
           {
            "fillpattern": {
             "fillmode": "overlay",
             "size": 10,
             "solidity": 0.2
            },
            "type": "scatter"
           }
          ],
          "scatter3d": [
           {
            "line": {
             "colorbar": {
              "outlinewidth": 0,
              "ticks": ""
             }
            },
            "marker": {
             "colorbar": {
              "outlinewidth": 0,
              "ticks": ""
             }
            },
            "type": "scatter3d"
           }
          ],
          "scattercarpet": [
           {
            "marker": {
             "colorbar": {
              "outlinewidth": 0,
              "ticks": ""
             }
            },
            "type": "scattercarpet"
           }
          ],
          "scattergeo": [
           {
            "marker": {
             "colorbar": {
              "outlinewidth": 0,
              "ticks": ""
             }
            },
            "type": "scattergeo"
           }
          ],
          "scattergl": [
           {
            "marker": {
             "colorbar": {
              "outlinewidth": 0,
              "ticks": ""
             }
            },
            "type": "scattergl"
           }
          ],
          "scattermap": [
           {
            "marker": {
             "colorbar": {
              "outlinewidth": 0,
              "ticks": ""
             }
            },
            "type": "scattermap"
           }
          ],
          "scattermapbox": [
           {
            "marker": {
             "colorbar": {
              "outlinewidth": 0,
              "ticks": ""
             }
            },
            "type": "scattermapbox"
           }
          ],
          "scatterpolar": [
           {
            "marker": {
             "colorbar": {
              "outlinewidth": 0,
              "ticks": ""
             }
            },
            "type": "scatterpolar"
           }
          ],
          "scatterpolargl": [
           {
            "marker": {
             "colorbar": {
              "outlinewidth": 0,
              "ticks": ""
             }
            },
            "type": "scatterpolargl"
           }
          ],
          "scatterternary": [
           {
            "marker": {
             "colorbar": {
              "outlinewidth": 0,
              "ticks": ""
             }
            },
            "type": "scatterternary"
           }
          ],
          "surface": [
           {
            "colorbar": {
             "outlinewidth": 0,
             "ticks": ""
            },
            "colorscale": [
             [
              0,
              "#0d0887"
             ],
             [
              0.1111111111111111,
              "#46039f"
             ],
             [
              0.2222222222222222,
              "#7201a8"
             ],
             [
              0.3333333333333333,
              "#9c179e"
             ],
             [
              0.4444444444444444,
              "#bd3786"
             ],
             [
              0.5555555555555556,
              "#d8576b"
             ],
             [
              0.6666666666666666,
              "#ed7953"
             ],
             [
              0.7777777777777778,
              "#fb9f3a"
             ],
             [
              0.8888888888888888,
              "#fdca26"
             ],
             [
              1,
              "#f0f921"
             ]
            ],
            "type": "surface"
           }
          ],
          "table": [
           {
            "cells": {
             "fill": {
              "color": "#EBF0F8"
             },
             "line": {
              "color": "white"
             }
            },
            "header": {
             "fill": {
              "color": "#C8D4E3"
             },
             "line": {
              "color": "white"
             }
            },
            "type": "table"
           }
          ]
         },
         "layout": {
          "annotationdefaults": {
           "arrowcolor": "#2a3f5f",
           "arrowhead": 0,
           "arrowwidth": 1
          },
          "autotypenumbers": "strict",
          "coloraxis": {
           "colorbar": {
            "outlinewidth": 0,
            "ticks": ""
           }
          },
          "colorscale": {
           "diverging": [
            [
             0,
             "#8e0152"
            ],
            [
             0.1,
             "#c51b7d"
            ],
            [
             0.2,
             "#de77ae"
            ],
            [
             0.3,
             "#f1b6da"
            ],
            [
             0.4,
             "#fde0ef"
            ],
            [
             0.5,
             "#f7f7f7"
            ],
            [
             0.6,
             "#e6f5d0"
            ],
            [
             0.7,
             "#b8e186"
            ],
            [
             0.8,
             "#7fbc41"
            ],
            [
             0.9,
             "#4d9221"
            ],
            [
             1,
             "#276419"
            ]
           ],
           "sequential": [
            [
             0,
             "#0d0887"
            ],
            [
             0.1111111111111111,
             "#46039f"
            ],
            [
             0.2222222222222222,
             "#7201a8"
            ],
            [
             0.3333333333333333,
             "#9c179e"
            ],
            [
             0.4444444444444444,
             "#bd3786"
            ],
            [
             0.5555555555555556,
             "#d8576b"
            ],
            [
             0.6666666666666666,
             "#ed7953"
            ],
            [
             0.7777777777777778,
             "#fb9f3a"
            ],
            [
             0.8888888888888888,
             "#fdca26"
            ],
            [
             1,
             "#f0f921"
            ]
           ],
           "sequentialminus": [
            [
             0,
             "#0d0887"
            ],
            [
             0.1111111111111111,
             "#46039f"
            ],
            [
             0.2222222222222222,
             "#7201a8"
            ],
            [
             0.3333333333333333,
             "#9c179e"
            ],
            [
             0.4444444444444444,
             "#bd3786"
            ],
            [
             0.5555555555555556,
             "#d8576b"
            ],
            [
             0.6666666666666666,
             "#ed7953"
            ],
            [
             0.7777777777777778,
             "#fb9f3a"
            ],
            [
             0.8888888888888888,
             "#fdca26"
            ],
            [
             1,
             "#f0f921"
            ]
           ]
          },
          "colorway": [
           "#636efa",
           "#EF553B",
           "#00cc96",
           "#ab63fa",
           "#FFA15A",
           "#19d3f3",
           "#FF6692",
           "#B6E880",
           "#FF97FF",
           "#FECB52"
          ],
          "font": {
           "color": "#2a3f5f"
          },
          "geo": {
           "bgcolor": "white",
           "lakecolor": "white",
           "landcolor": "#E5ECF6",
           "showlakes": true,
           "showland": true,
           "subunitcolor": "white"
          },
          "hoverlabel": {
           "align": "left"
          },
          "hovermode": "closest",
          "mapbox": {
           "style": "light"
          },
          "paper_bgcolor": "white",
          "plot_bgcolor": "#E5ECF6",
          "polar": {
           "angularaxis": {
            "gridcolor": "white",
            "linecolor": "white",
            "ticks": ""
           },
           "bgcolor": "#E5ECF6",
           "radialaxis": {
            "gridcolor": "white",
            "linecolor": "white",
            "ticks": ""
           }
          },
          "scene": {
           "xaxis": {
            "backgroundcolor": "#E5ECF6",
            "gridcolor": "white",
            "gridwidth": 2,
            "linecolor": "white",
            "showbackground": true,
            "ticks": "",
            "zerolinecolor": "white"
           },
           "yaxis": {
            "backgroundcolor": "#E5ECF6",
            "gridcolor": "white",
            "gridwidth": 2,
            "linecolor": "white",
            "showbackground": true,
            "ticks": "",
            "zerolinecolor": "white"
           },
           "zaxis": {
            "backgroundcolor": "#E5ECF6",
            "gridcolor": "white",
            "gridwidth": 2,
            "linecolor": "white",
            "showbackground": true,
            "ticks": "",
            "zerolinecolor": "white"
           }
          },
          "shapedefaults": {
           "line": {
            "color": "#2a3f5f"
           }
          },
          "ternary": {
           "aaxis": {
            "gridcolor": "white",
            "linecolor": "white",
            "ticks": ""
           },
           "baxis": {
            "gridcolor": "white",
            "linecolor": "white",
            "ticks": ""
           },
           "bgcolor": "#E5ECF6",
           "caxis": {
            "gridcolor": "white",
            "linecolor": "white",
            "ticks": ""
           }
          },
          "title": {
           "x": 0.05
          },
          "xaxis": {
           "automargin": true,
           "gridcolor": "white",
           "linecolor": "white",
           "ticks": "",
           "title": {
            "standoff": 15
           },
           "zerolinecolor": "white",
           "zerolinewidth": 2
          },
          "yaxis": {
           "automargin": true,
           "gridcolor": "white",
           "linecolor": "white",
           "ticks": "",
           "title": {
            "standoff": 15
           },
           "zerolinecolor": "white",
           "zerolinewidth": 2
          }
         }
        },
        "title": {
         "text": "Grade vs. Year Renovated"
        },
        "xaxis": {
         "anchor": "y",
         "domain": [
          0,
          1
         ],
         "title": {
          "text": "Grade"
         }
        },
        "yaxis": {
         "anchor": "x",
         "domain": [
          0,
          1
         ],
         "title": {
          "text": "Year Renovated"
         }
        }
       }
      }
     },
     "metadata": {},
     "output_type": "display_data"
    }
   ],
   "source": [
    "fig = px.scatter(\n",
    "    jennifer_filtered,\n",
    "    x='grade',\n",
    "    y='yr_renovated',\n",
    "    color='price',           # Color shows price\n",
    "    size=[10]*len(jennifer_filtered),  # Fixed bubble size (all bubbles size 10)\n",
    "    hover_name='zipcode',\n",
    "    hover_data=['bedrooms', 'sqft_living'],\n",
    "    title='Grade vs. Year Renovated',\n",
    "    size_max=10              # Maximum size (matches fixed size)\n",
    ")\n",
    "\n",
    "fig.update_layout(\n",
    "    xaxis_title='Grade',\n",
    "    yaxis_title='Year Renovated'\n",
    ")\n",
    "\n",
    "fig.show()\n"
   ]
  },
  {
   "cell_type": "markdown",
   "id": "2f3b6486",
   "metadata": {},
   "source": [
    "## Home Price Distribution Based on Renovation Status\n",
    "\n",
    "This box plot confimrs that the renovation status of a home doesn't seem to affect the price of the home. This suggests that renovation alone may not significantly drive price increases and other features (like location, grade, or size) likely play a larger role in determining home value."
   ]
  },
  {
   "cell_type": "code",
   "execution_count": 35,
   "id": "001e3a32",
   "metadata": {
    "vscode": {
     "languageId": "javascript"
    }
   },
   "outputs": [
    {
     "name": "stderr",
     "output_type": "stream",
     "text": [
      "C:\\Users\\fr33c\\AppData\\Local\\Temp\\ipykernel_4800\\370947453.py:5: FutureWarning:\n",
      "\n",
      "\n",
      "\n",
      "Passing `palette` without assigning `hue` is deprecated and will be removed in v0.14.0. Assign the `x` variable to `hue` and set `legend=False` for the same effect.\n",
      "\n",
      "\n"
     ]
    },
    {
     "data": {
      "image/png": "[encoded data removed]",
      "text/plain": [
       "<Figure size 800x600 with 1 Axes>"
      ]
     },
     "metadata": {},
     "output_type": "display_data"
    }
   ],
   "source": [
    "# Create a renovation status column\n",
    "df['renovated'] = df['yr_renovated'].apply(lambda x: 'Renovated' if x > 0 else 'Not Renovated')\n",
    "\n",
    "plt.figure(figsize=(8, 6))\n",
    "sns.boxplot(data=df, x='renovated', y='price', palette='Set2')\n",
    "\n",
    "plt.title('Price Distribution by Renovation Status')\n",
    "plt.xlabel('Renovation Status')\n",
    "plt.ylabel('Price ($)')\n",
    "plt.tight_layout()\n",
    "plt.show()\n",
    "\n"
   ]
  },
  {
   "cell_type": "markdown",
   "id": "5683f2cd",
   "metadata": {},
   "source": [
    "## Scatter Plot for Jennifer’s Criteria\n",
    "\n",
    "Homes that are:\n",
    "\n",
    "* Waterfront\n",
    "* Renovated in the last 10 years\n",
    "* At least 3 bedrooms\n",
    "* 2500 sqft\n",
    "* $750,000"
   ]
  },
  {
   "cell_type": "markdown",
   "id": "ce4ed64a",
   "metadata": {},
   "source": [
    "#### Positive Correlation between sqft_living and price:\n",
    "\n",
    "As expected, larger homes tend to be more expensive.\n",
    "There’s a general upward trend: more space = higher cost. We also notice 2 outliners with great living space.\n",
    "\n",
    "#### Variation in Price Across Zip Codes:\n",
    "\n",
    "Some zip codes (like 98004, 98039, 98040) have consistently higher price clusters, even for similar square footage.\n",
    "Indicates location premium — not just home size.\n",
    "\n",
    "#### Grade Influences Value:\n",
    "\n",
    "High Grade tends to be at the higher end of the price spectrum.\n",
    "This supports that higher construction quality or design features (grade) are highly valued.\n",
    "\n",
    "#### Year Renovated in Hover Data:\n",
    "\n",
    "Helps confirm that recently renovated properties don't always command top prices.\n",
    "You can spot renovation recency and tie it to price differences."
   ]
  },
  {
   "cell_type": "code",
   "execution_count": 37,
   "id": "a4a61f0d",
   "metadata": {
    "vscode": {
     "languageId": "javascript"
    }
   },
   "outputs": [
    {
     "data": {
      "application/vnd.plotly.v1+json": {
       "config": {
        "plotlyServerURL": "https://plot.ly"
       },
       "data": [
        {
         "customdata": {
          "bdata": "AAAAAAAACEAAAAAAAAAiQAAAAAAAb9NAAAAAAGD390AAAAAAAAAIQAAAAAAAACRAAAAAAACN00AAAAAAAPb3QAAAAAAAABRAAAAAAAAAJkAAAAAAgIrTQAAAAABA7fdAAAAAAAAACEAAAAAAAAAiQAAAAAAAl9NAAAAAAGDx90AAAAAAAAAIQAAAAAAAABxAAAAAAIB200AAAAAAcO73QAAAAAAAABRAAAAAAAAAIkAAAAAAgIrTQAAAAACw8fdAAAAAAAAAEEAAAAAAAAAgQAAAAACAcdNAAAAAACD490AAAAAAAAAUQAAAAAAAACJAAAAAAABW00AAAAAAgO/3QAAAAAAAABRAAAAAAAAAKEAAAAAAgJ7TQAAAAACA7/dAAAAAAAAACEAAAAAAAAAkQAAAAACAbNNAAAAAAGDt90AAAAAAAAAYQAAAAAAAACBAAAAAAIBd00AAAAAAAPb3QAAAAAAAAAhAAAAAAAAAKEAAAAAAAG/TQAAAAABg9/dAAAAAAAAACEAAAAAAAAAiQAAAAACAcdNAAAAAAGD590AAAAAAAAAQQAAAAAAAABxAAAAAAIAw00AAAAAA0PT3QAAAAAAAAAhAAAAAAAAAJkAAAAAAgGfTQAAAAACA7fdAAAAAAAAAEEAAAAAAAAAiQAAAAACAbNNAAAAAAGD590AAAAAAAAAIQAAAAAAAACBAAAAAAABg00AAAAAAgO33QA==",
          "dtype": "f8",
          "shape": "17, 4"
         },
         "hovertemplate": "sqft_living=%{x}<br>price=%{y}<br>grade=%{marker.color}<br>bedrooms=%{customdata[0]}<br>yr_renovated=%{customdata[2]}<br>zipcode=%{customdata[3]}<extra></extra>",
         "legendgroup": "",
         "marker": {
          "color": {
           "bdata": "CQoLCQcJCAkMCggMCQcLCQg=",
           "dtype": "i1"
          },
          "coloraxis": "coloraxis",
          "size": {
           "bdata": "CQoLCQcJCAkMCggMCQcLCQg=",
           "dtype": "i1"
          },
          "sizemode": "area",
          "sizeref": 0.03,
          "symbol": "circle"
         },
         "mode": "markers",
         "name": "",
         "orientation": "v",
         "showlegend": false,
         "type": "scatter",
         "x": {
          "bdata": "AAAAAAAcsUAAAAAAAJyzQAAAAAAAnMNAAAAAAACUrUAAAAAAADypQAAAAAAA4KVAAAAAAADsqEAAAAAAAO6tQAAAAAAA1MJAAAAAAADMpUAAAAAAAJinQAAAAAAANLJAAAAAAABcp0AAAAAAAPirQAAAAAAAfLBAAAAAAABgqEAAAAAAAHSoQA==",
          "dtype": "f8"
         },
         "xaxis": "x",
         "y": {
          "bdata": "AAAAAHBdLkEAAAAAQHdLQQAAAACI7lpBAAAAAKAONUEAAAAAMIwxQQAAAACQOjxBAAAAAODIMEEAAAAAcJlEQQAAAACM0FFBAAAAAEB3O0EAAAAA4P08QQAAAABABjlBAAAAAEAGKUEAAAAA0Ec/QQAAAABQLUlBAAAAALDEMkEAAAAAwFw1QQ==",
          "dtype": "f8"
         },
         "yaxis": "y"
        }
       ],
       "layout": {
        "coloraxis": {
         "colorbar": {
          "title": {
           "text": "grade"
          }
         },
         "colorscale": [
          [
           0,
           "#0d0887"
          ],
          [
           0.1111111111111111,
           "#46039f"
          ],
          [
           0.2222222222222222,
           "#7201a8"
          ],
          [
           0.3333333333333333,
           "#9c179e"
          ],
          [
           0.4444444444444444,
           "#bd3786"
          ],
          [
           0.5555555555555556,
           "#d8576b"
          ],
          [
           0.6666666666666666,
           "#ed7953"
          ],
          [
           0.7777777777777778,
           "#fb9f3a"
          ],
          [
           0.8888888888888888,
           "#fdca26"
          ],
          [
           1,
           "#f0f921"
          ]
         ]
        },
        "legend": {
         "itemsizing": "constant",
         "tracegroupgap": 0
        },
        "template": {
         "data": {
          "bar": [
           {
            "error_x": {
             "color": "#2a3f5f"
            },
            "error_y": {
             "color": "#2a3f5f"
            },
            "marker": {
             "line": {
              "color": "#E5ECF6",
              "width": 0.5
             },
             "pattern": {
              "fillmode": "overlay",
              "size": 10,
              "solidity": 0.2
             }
            },
            "type": "bar"
           }
          ],
          "barpolar": [
           {
            "marker": {
             "line": {
              "color": "#E5ECF6",
              "width": 0.5
             },
             "pattern": {
              "fillmode": "overlay",
              "size": 10,
              "solidity": 0.2
             }
            },
            "type": "barpolar"
           }
          ],
          "carpet": [
           {
            "aaxis": {
             "endlinecolor": "#2a3f5f",
             "gridcolor": "white",
             "linecolor": "white",
             "minorgridcolor": "white",
             "startlinecolor": "#2a3f5f"
            },
            "baxis": {
             "endlinecolor": "#2a3f5f",
             "gridcolor": "white",
             "linecolor": "white",
             "minorgridcolor": "white",
             "startlinecolor": "#2a3f5f"
            },
            "type": "carpet"
           }
          ],
          "choropleth": [
           {
            "colorbar": {
             "outlinewidth": 0,
             "ticks": ""
            },
            "type": "choropleth"
           }
          ],
          "contour": [
           {
            "colorbar": {
             "outlinewidth": 0,
             "ticks": ""
            },
            "colorscale": [
             [
              0,
              "#0d0887"
             ],
             [
              0.1111111111111111,
              "#46039f"
             ],
             [
              0.2222222222222222,
              "#7201a8"
             ],
             [
              0.3333333333333333,
              "#9c179e"
             ],
             [
              0.4444444444444444,
              "#bd3786"
             ],
             [
              0.5555555555555556,
              "#d8576b"
             ],
             [
              0.6666666666666666,
              "#ed7953"
             ],
             [
              0.7777777777777778,
              "#fb9f3a"
             ],
             [
              0.8888888888888888,
              "#fdca26"
             ],
             [
              1,
              "#f0f921"
             ]
            ],
            "type": "contour"
           }
          ],
          "contourcarpet": [
           {
            "colorbar": {
             "outlinewidth": 0,
             "ticks": ""
            },
            "type": "contourcarpet"
           }
          ],
          "heatmap": [
           {
            "colorbar": {
             "outlinewidth": 0,
             "ticks": ""
            },
            "colorscale": [
             [
              0,
              "#0d0887"
             ],
             [
              0.1111111111111111,
              "#46039f"
             ],
             [
              0.2222222222222222,
              "#7201a8"
             ],
             [
              0.3333333333333333,
              "#9c179e"
             ],
             [
              0.4444444444444444,
              "#bd3786"
             ],
             [
              0.5555555555555556,
              "#d8576b"
             ],
             [
              0.6666666666666666,
              "#ed7953"
             ],
             [
              0.7777777777777778,
              "#fb9f3a"
             ],
             [
              0.8888888888888888,
              "#fdca26"
             ],
             [
              1,
              "#f0f921"
             ]
            ],
            "type": "heatmap"
           }
          ],
          "histogram": [
           {
            "marker": {
             "pattern": {
              "fillmode": "overlay",
              "size": 10,
              "solidity": 0.2
             }
            },
            "type": "histogram"
           }
          ],
          "histogram2d": [
           {
            "colorbar": {
             "outlinewidth": 0,
             "ticks": ""
            },
            "colorscale": [
             [
              0,
              "#0d0887"
             ],
             [
              0.1111111111111111,
              "#46039f"
             ],
             [
              0.2222222222222222,
              "#7201a8"
             ],
             [
              0.3333333333333333,
              "#9c179e"
             ],
             [
              0.4444444444444444,
              "#bd3786"
             ],
             [
              0.5555555555555556,
              "#d8576b"
             ],
             [
              0.6666666666666666,
              "#ed7953"
             ],
             [
              0.7777777777777778,
              "#fb9f3a"
             ],
             [
              0.8888888888888888,
              "#fdca26"
             ],
             [
              1,
              "#f0f921"
             ]
            ],
            "type": "histogram2d"
           }
          ],
          "histogram2dcontour": [
           {
            "colorbar": {
             "outlinewidth": 0,
             "ticks": ""
            },
            "colorscale": [
             [
              0,
              "#0d0887"
             ],
             [
              0.1111111111111111,
              "#46039f"
             ],
             [
              0.2222222222222222,
              "#7201a8"
             ],
             [
              0.3333333333333333,
              "#9c179e"
             ],
             [
              0.4444444444444444,
              "#bd3786"
             ],
             [
              0.5555555555555556,
              "#d8576b"
             ],
             [
              0.6666666666666666,
              "#ed7953"
             ],
             [
              0.7777777777777778,
              "#fb9f3a"
             ],
             [
              0.8888888888888888,
              "#fdca26"
             ],
             [
              1,
              "#f0f921"
             ]
            ],
            "type": "histogram2dcontour"
           }
          ],
          "mesh3d": [
           {
            "colorbar": {
             "outlinewidth": 0,
             "ticks": ""
            },
            "type": "mesh3d"
           }
          ],
          "parcoords": [
           {
            "line": {
             "colorbar": {
              "outlinewidth": 0,
              "ticks": ""
             }
            },
            "type": "parcoords"
           }
          ],
          "pie": [
           {
            "automargin": true,
            "type": "pie"
           }
          ],
          "scatter": [
           {
            "fillpattern": {
             "fillmode": "overlay",
             "size": 10,
             "solidity": 0.2
            },
            "type": "scatter"
           }
          ],
          "scatter3d": [
           {
            "line": {
             "colorbar": {
              "outlinewidth": 0,
              "ticks": ""
             }
            },
            "marker": {
             "colorbar": {
              "outlinewidth": 0,
              "ticks": ""
             }
            },
            "type": "scatter3d"
           }
          ],
          "scattercarpet": [
           {
            "marker": {
             "colorbar": {
              "outlinewidth": 0,
              "ticks": ""
             }
            },
            "type": "scattercarpet"
           }
          ],
          "scattergeo": [
           {
            "marker": {
             "colorbar": {
              "outlinewidth": 0,
              "ticks": ""
             }
            },
            "type": "scattergeo"
           }
          ],
          "scattergl": [
           {
            "marker": {
             "colorbar": {
              "outlinewidth": 0,
              "ticks": ""
             }
            },
            "type": "scattergl"
           }
          ],
          "scattermap": [
           {
            "marker": {
             "colorbar": {
              "outlinewidth": 0,
              "ticks": ""
             }
            },
            "type": "scattermap"
           }
          ],
          "scattermapbox": [
           {
            "marker": {
             "colorbar": {
              "outlinewidth": 0,
              "ticks": ""
             }
            },
            "type": "scattermapbox"
           }
          ],
          "scatterpolar": [
           {
            "marker": {
             "colorbar": {
              "outlinewidth": 0,
              "ticks": ""
             }
            },
            "type": "scatterpolar"
           }
          ],
          "scatterpolargl": [
           {
            "marker": {
             "colorbar": {
              "outlinewidth": 0,
              "ticks": ""
             }
            },
            "type": "scatterpolargl"
           }
          ],
          "scatterternary": [
           {
            "marker": {
             "colorbar": {
              "outlinewidth": 0,
              "ticks": ""
             }
            },
            "type": "scatterternary"
           }
          ],
          "surface": [
           {
            "colorbar": {
             "outlinewidth": 0,
             "ticks": ""
            },
            "colorscale": [
             [
              0,
              "#0d0887"
             ],
             [
              0.1111111111111111,
              "#46039f"
             ],
             [
              0.2222222222222222,
              "#7201a8"
             ],
             [
              0.3333333333333333,
              "#9c179e"
             ],
             [
              0.4444444444444444,
              "#bd3786"
             ],
             [
              0.5555555555555556,
              "#d8576b"
             ],
             [
              0.6666666666666666,
              "#ed7953"
             ],
             [
              0.7777777777777778,
              "#fb9f3a"
             ],
             [
              0.8888888888888888,
              "#fdca26"
             ],
             [
              1,
              "#f0f921"
             ]
            ],
            "type": "surface"
           }
          ],
          "table": [
           {
            "cells": {
             "fill": {
              "color": "#EBF0F8"
             },
             "line": {
              "color": "white"
             }
            },
            "header": {
             "fill": {
              "color": "#C8D4E3"
             },
             "line": {
              "color": "white"
             }
            },
            "type": "table"
           }
          ]
         },
         "layout": {
          "annotationdefaults": {
           "arrowcolor": "#2a3f5f",
           "arrowhead": 0,
           "arrowwidth": 1
          },
          "autotypenumbers": "strict",
          "coloraxis": {
           "colorbar": {
            "outlinewidth": 0,
            "ticks": ""
           }
          },
          "colorscale": {
           "diverging": [
            [
             0,
             "#8e0152"
            ],
            [
             0.1,
             "#c51b7d"
            ],
            [
             0.2,
             "#de77ae"
            ],
            [
             0.3,
             "#f1b6da"
            ],
            [
             0.4,
             "#fde0ef"
            ],
            [
             0.5,
             "#f7f7f7"
            ],
            [
             0.6,
             "#e6f5d0"
            ],
            [
             0.7,
             "#b8e186"
            ],
            [
             0.8,
             "#7fbc41"
            ],
            [
             0.9,
             "#4d9221"
            ],
            [
             1,
             "#276419"
            ]
           ],
           "sequential": [
            [
             0,
             "#0d0887"
            ],
            [
             0.1111111111111111,
             "#46039f"
            ],
            [
             0.2222222222222222,
             "#7201a8"
            ],
            [
             0.3333333333333333,
             "#9c179e"
            ],
            [
             0.4444444444444444,
             "#bd3786"
            ],
            [
             0.5555555555555556,
             "#d8576b"
            ],
            [
             0.6666666666666666,
             "#ed7953"
            ],
            [
             0.7777777777777778,
             "#fb9f3a"
            ],
            [
             0.8888888888888888,
             "#fdca26"
            ],
            [
             1,
             "#f0f921"
            ]
           ],
           "sequentialminus": [
            [
             0,
             "#0d0887"
            ],
            [
             0.1111111111111111,
             "#46039f"
            ],
            [
             0.2222222222222222,
             "#7201a8"
            ],
            [
             0.3333333333333333,
             "#9c179e"
            ],
            [
             0.4444444444444444,
             "#bd3786"
            ],
            [
             0.5555555555555556,
             "#d8576b"
            ],
            [
             0.6666666666666666,
             "#ed7953"
            ],
            [
             0.7777777777777778,
             "#fb9f3a"
            ],
            [
             0.8888888888888888,
             "#fdca26"
            ],
            [
             1,
             "#f0f921"
            ]
           ]
          },
          "colorway": [
           "#636efa",
           "#EF553B",
           "#00cc96",
           "#ab63fa",
           "#FFA15A",
           "#19d3f3",
           "#FF6692",
           "#B6E880",
           "#FF97FF",
           "#FECB52"
          ],
          "font": {
           "color": "#2a3f5f"
          },
          "geo": {
           "bgcolor": "white",
           "lakecolor": "white",
           "landcolor": "#E5ECF6",
           "showlakes": true,
           "showland": true,
           "subunitcolor": "white"
          },
          "hoverlabel": {
           "align": "left"
          },
          "hovermode": "closest",
          "mapbox": {
           "style": "light"
          },
          "paper_bgcolor": "white",
          "plot_bgcolor": "#E5ECF6",
          "polar": {
           "angularaxis": {
            "gridcolor": "white",
            "linecolor": "white",
            "ticks": ""
           },
           "bgcolor": "#E5ECF6",
           "radialaxis": {
            "gridcolor": "white",
            "linecolor": "white",
            "ticks": ""
           }
          },
          "scene": {
           "xaxis": {
            "backgroundcolor": "#E5ECF6",
            "gridcolor": "white",
            "gridwidth": 2,
            "linecolor": "white",
            "showbackground": true,
            "ticks": "",
            "zerolinecolor": "white"
           },
           "yaxis": {
            "backgroundcolor": "#E5ECF6",
            "gridcolor": "white",
            "gridwidth": 2,
            "linecolor": "white",
            "showbackground": true,
            "ticks": "",
            "zerolinecolor": "white"
           },
           "zaxis": {
            "backgroundcolor": "#E5ECF6",
            "gridcolor": "white",
            "gridwidth": 2,
            "linecolor": "white",
            "showbackground": true,
            "ticks": "",
            "zerolinecolor": "white"
           }
          },
          "shapedefaults": {
           "line": {
            "color": "#2a3f5f"
           }
          },
          "ternary": {
           "aaxis": {
            "gridcolor": "white",
            "linecolor": "white",
            "ticks": ""
           },
           "baxis": {
            "gridcolor": "white",
            "linecolor": "white",
            "ticks": ""
           },
           "bgcolor": "#E5ECF6",
           "caxis": {
            "gridcolor": "white",
            "linecolor": "white",
            "ticks": ""
           }
          },
          "title": {
           "x": 0.05
          },
          "xaxis": {
           "automargin": true,
           "gridcolor": "white",
           "linecolor": "white",
           "ticks": "",
           "title": {
            "standoff": 15
           },
           "zerolinecolor": "white",
           "zerolinewidth": 2
          },
          "yaxis": {
           "automargin": true,
           "gridcolor": "white",
           "linecolor": "white",
           "ticks": "",
           "title": {
            "standoff": 15
           },
           "zerolinecolor": "white",
           "zerolinewidth": 2
          }
         }
        },
        "title": {
         "text": "High-End Renovated Waterfront Properties"
        },
        "xaxis": {
         "anchor": "y",
         "domain": [
          0,
          1
         ],
         "title": {
          "text": "sqft_living"
         }
        },
        "yaxis": {
         "anchor": "x",
         "domain": [
          0,
          1
         ],
         "title": {
          "text": "price"
         }
        }
       }
      }
     },
     "metadata": {},
     "output_type": "display_data"
    }
   ],
   "source": [
    "df = pd.read_csv(r'c:\\Users\\fr33c\\OneDrive\\Desktop\\AIPM\\ds-EDA-C-and-R\\data\\eda.csv')\n",
    "\n",
    "# Then you can filter and plot:\n",
    "jennifer_df = df[\n",
    "    (df['waterfront'] == 1) &\n",
    "    (df['yr_renovated'] > 0) &\n",
    "    (df['bedrooms'] >= 3) &\n",
    "    (df['sqft_living'] > 2500) &\n",
    "    (df['price'] > 750_000)\n",
    "]\n",
    "\n",
    "fig = px.scatter(\n",
    "    jennifer_df,\n",
    "    x='sqft_living',\n",
    "    y='price',\n",
    "    color='grade',\n",
    "    size='grade',\n",
    "    hover_data=['bedrooms', 'grade', 'yr_renovated', 'zipcode'],\n",
    "    title='High-End Renovated Waterfront Properties'\n",
    ")\n",
    "\n",
    "fig.show()\n"
   ]
  },
  {
   "cell_type": "markdown",
   "id": "796ec04e",
   "metadata": {},
   "source": [
    "## Jennifer Montgomery Match Table\n",
    "\n",
    "Top 10 properties matching all Jennifer’s criteria."
   ]
  },
  {
   "cell_type": "code",
   "execution_count": 38,
   "id": "afd7c34b",
   "metadata": {
    "vscode": {
     "languageId": "javascript"
    }
   },
   "outputs": [
    {
     "data": {
      "text/html": [
       "<div>\n",
       "<style scoped>\n",
       "    .dataframe tbody tr th:only-of-type {\n",
       "        vertical-align: middle;\n",
       "    }\n",
       "\n",
       "    .dataframe tbody tr th {\n",
       "        vertical-align: top;\n",
       "    }\n",
       "\n",
       "    .dataframe thead th {\n",
       "        text-align: right;\n",
       "    }\n",
       "</style>\n",
       "<table border=\"1\" class=\"dataframe\">\n",
       "  <thead>\n",
       "    <tr style=\"text-align: right;\">\n",
       "      <th></th>\n",
       "      <th>house_id</th>\n",
       "      <th>date</th>\n",
       "      <th>price</th>\n",
       "      <th>zipcode</th>\n",
       "      <th>bedrooms</th>\n",
       "      <th>sqft_living</th>\n",
       "      <th>grade</th>\n",
       "      <th>yr_renovated</th>\n",
       "      <th>view</th>\n",
       "      <th>waterfront</th>\n",
       "    </tr>\n",
       "  </thead>\n",
       "  <tbody>\n",
       "    <tr>\n",
       "      <th>37</th>\n",
       "      <td>9808700762</td>\n",
       "      <td>2014-06-11</td>\n",
       "      <td>$7,060,000</td>\n",
       "      <td>98004</td>\n",
       "      <td>5.0</td>\n",
       "      <td>10040.0</td>\n",
       "      <td>11</td>\n",
       "      <td>20010</td>\n",
       "      <td>2.0</td>\n",
       "      <td>1.0</td>\n",
       "    </tr>\n",
       "    <tr>\n",
       "      <th>81</th>\n",
       "      <td>1924059029</td>\n",
       "      <td>2014-06-17</td>\n",
       "      <td>$4,670,000</td>\n",
       "      <td>98040</td>\n",
       "      <td>5.0</td>\n",
       "      <td>9640.0</td>\n",
       "      <td>12</td>\n",
       "      <td>20090</td>\n",
       "      <td>4.0</td>\n",
       "      <td>1.0</td>\n",
       "    </tr>\n",
       "    <tr>\n",
       "      <th>25</th>\n",
       "      <td>4114601570</td>\n",
       "      <td>2014-11-18</td>\n",
       "      <td>$3,600,000</td>\n",
       "      <td>98144</td>\n",
       "      <td>3.0</td>\n",
       "      <td>5020.0</td>\n",
       "      <td>10</td>\n",
       "      <td>20020</td>\n",
       "      <td>4.0</td>\n",
       "      <td>1.0</td>\n",
       "    </tr>\n",
       "    <tr>\n",
       "      <th>180</th>\n",
       "      <td>3625059152</td>\n",
       "      <td>2014-12-30</td>\n",
       "      <td>$3,300,000</td>\n",
       "      <td>98008</td>\n",
       "      <td>3.0</td>\n",
       "      <td>4220.0</td>\n",
       "      <td>11</td>\n",
       "      <td>19870</td>\n",
       "      <td>4.0</td>\n",
       "      <td>1.0</td>\n",
       "    </tr>\n",
       "    <tr>\n",
       "      <th>70</th>\n",
       "      <td>5442300807</td>\n",
       "      <td>2014-06-24</td>\n",
       "      <td>$2,700,000</td>\n",
       "      <td>98040</td>\n",
       "      <td>5.0</td>\n",
       "      <td>3831.0</td>\n",
       "      <td>9</td>\n",
       "      <td>19800</td>\n",
       "      <td>4.0</td>\n",
       "      <td>1.0</td>\n",
       "    </tr>\n",
       "    <tr>\n",
       "      <th>173</th>\n",
       "      <td>7352200450</td>\n",
       "      <td>2015-01-15</td>\n",
       "      <td>$2,050,000</td>\n",
       "      <td>98125</td>\n",
       "      <td>4.0</td>\n",
       "      <td>3580.0</td>\n",
       "      <td>7</td>\n",
       "      <td>19650</td>\n",
       "      <td>4.0</td>\n",
       "      <td>1.0</td>\n",
       "    </tr>\n",
       "    <tr>\n",
       "      <th>123</th>\n",
       "      <td>4114601580</td>\n",
       "      <td>2014-07-24</td>\n",
       "      <td>$1,900,000</td>\n",
       "      <td>98144</td>\n",
       "      <td>6.0</td>\n",
       "      <td>3020.0</td>\n",
       "      <td>8</td>\n",
       "      <td>19830</td>\n",
       "      <td>4.0</td>\n",
       "      <td>1.0</td>\n",
       "    </tr>\n",
       "    <tr>\n",
       "      <th>48</th>\n",
       "      <td>9201300050</td>\n",
       "      <td>2014-08-14</td>\n",
       "      <td>$1,850,000</td>\n",
       "      <td>98075</td>\n",
       "      <td>5.0</td>\n",
       "      <td>2800.0</td>\n",
       "      <td>9</td>\n",
       "      <td>20010</td>\n",
       "      <td>4.0</td>\n",
       "      <td>1.0</td>\n",
       "    </tr>\n",
       "    <tr>\n",
       "      <th>88</th>\n",
       "      <td>3343302110</td>\n",
       "      <td>2015-03-06</td>\n",
       "      <td>$1,800,000</td>\n",
       "      <td>98006</td>\n",
       "      <td>3.0</td>\n",
       "      <td>2790.0</td>\n",
       "      <td>10</td>\n",
       "      <td>19890</td>\n",
       "      <td>4.0</td>\n",
       "      <td>1.0</td>\n",
       "    </tr>\n",
       "    <tr>\n",
       "      <th>155</th>\n",
       "      <td>6117502230</td>\n",
       "      <td>2014-12-01</td>\n",
       "      <td>$1,640,000</td>\n",
       "      <td>98166</td>\n",
       "      <td>3.0</td>\n",
       "      <td>4660.0</td>\n",
       "      <td>12</td>\n",
       "      <td>19900</td>\n",
       "      <td>4.0</td>\n",
       "      <td>1.0</td>\n",
       "    </tr>\n",
       "  </tbody>\n",
       "</table>\n",
       "</div>"
      ],
      "text/plain": [
       "       house_id        date       price  zipcode  bedrooms  sqft_living  \\\n",
       "37   9808700762  2014-06-11  $7,060,000    98004       5.0      10040.0   \n",
       "81   1924059029  2014-06-17  $4,670,000    98040       5.0       9640.0   \n",
       "25   4114601570  2014-11-18  $3,600,000    98144       3.0       5020.0   \n",
       "180  3625059152  2014-12-30  $3,300,000    98008       3.0       4220.0   \n",
       "70   5442300807  2014-06-24  $2,700,000    98040       5.0       3831.0   \n",
       "173  7352200450  2015-01-15  $2,050,000    98125       4.0       3580.0   \n",
       "123  4114601580  2014-07-24  $1,900,000    98144       6.0       3020.0   \n",
       "48   9201300050  2014-08-14  $1,850,000    98075       5.0       2800.0   \n",
       "88   3343302110  2015-03-06  $1,800,000    98006       3.0       2790.0   \n",
       "155  6117502230  2014-12-01  $1,640,000    98166       3.0       4660.0   \n",
       "\n",
       "     grade  yr_renovated  view  waterfront  \n",
       "37      11         20010   2.0         1.0  \n",
       "81      12         20090   4.0         1.0  \n",
       "25      10         20020   4.0         1.0  \n",
       "180     11         19870   4.0         1.0  \n",
       "70       9         19800   4.0         1.0  \n",
       "173      7         19650   4.0         1.0  \n",
       "123      8         19830   4.0         1.0  \n",
       "48       9         20010   4.0         1.0  \n",
       "88      10         19890   4.0         1.0  \n",
       "155     12         19900   4.0         1.0  "
      ]
     },
     "execution_count": 38,
     "metadata": {},
     "output_type": "execute_result"
    }
   ],
   "source": [
    "# Build the display table including house_id\n",
    "jennifer_match_table = jennifer_filtered[[\n",
    "    'house_id',\n",
    "    'date',\n",
    "    'price',\n",
    "    'zipcode',\n",
    "    'bedrooms',\n",
    "    'sqft_living',\n",
    "    'grade',\n",
    "    'yr_renovated',\n",
    "    'view',\n",
    "    'waterfront'\n",
    "]].sort_values(by='price', ascending=False)\n",
    "\n",
    "# Format\n",
    "jennifer_match_table['price'] = jennifer_match_table['price'].map('${:,.0f}'.format)\n",
    "jennifer_match_table['date'] = pd.to_datetime(jennifer_match_table['date']).dt.date\n",
    "\n",
    "# Show top 10\n",
    "jennifer_match_table.head(10)\n",
    "\n"
   ]
  },
  {
   "cell_type": "markdown",
   "id": "c516743c",
   "metadata": {},
   "source": [
    "# Key Insights for Jennifer Montgomery from the Housing Data\n",
    "\n",
    "1. **Waterfront Homes Are Pricier**\n",
    "    * The average price of waterfront homes is about $2.27 million, compared to $1.34 million for non-waterfront properties.\n",
    "    * This confirms that waterfront homes command a significant price premium—a strong point for showing off and likely resale value.\n",
    "\n",
    "2. **Square Foot Living and Grade Strongly Influence Price**\n",
    "    * The correlation with price is highest for square footage (0.83) and grade (0.60.)\n",
    "3. **High-End Grades Are Rare and Valuable**\n",
    "    * At the top end, only 2 homes have grade 13 and 3 have grade 12, while grades 9 and 10 are most common among luxury listings.\n",
    "    * Higher grades (10, 11, 12, 13) sharply increase average price—grade 13 homes average over $5.4 million, while grade 11 averages $2.7 million.\n",
    "4. **Renovation Isn’t Directly Linked to Higher Prices**\n",
    "    * Recent renovations show a slightly negative correlation with price overall (-0.13).\n",
    "    * This suggests that, for this market, factors like grade, size, and location have more weight than renovation date alone—unless combined with high grade or waterfront status.\n"
   ]
  },
  {
   "cell_type": "markdown",
   "id": "74119527",
   "metadata": {},
   "source": [
    "# Recommendations for Jennifer Montgomery\n",
    "\n",
    "---\n",
    "\n",
    "#### 1. **House ID: 1924059029**\n",
    "\n",
    "* **Zipcode**: 98040 (Mercer Island)\n",
    "* **Price**: \\$4,670,000\n",
    "* **Bedrooms**: 5\n",
    "* **Living Area**: 9,640 sqft\n",
    "* **Grade**: 12 (Luxury Tier)\n",
    "* **Year Renovated**: 2009\n",
    "* **View**: 4\n",
    "* **Waterfront**: yes\n",
    "\n",
    "**Why Jennifer Should Buy It:**\n",
    "Luxury renovation and high-end construction in one of the region’s most prestigious zip codes. Mercer Island homes maintain strong resale value. This property delivers on size, finish, and exclusivity.\n",
    "\n",
    "---\n",
    "\n",
    "#### 2. **House ID: 6117502230**\n",
    "\n",
    "* **Zipcode**: 98166 (Burien/Three Tree Point area)\n",
    "* **Price**: \\$1,640,000\n",
    "* **Bedrooms**: 3\n",
    "* **Living Area**: 4,660 sqft\n",
    "* **Grade**: 12 (Luxury Tier)\n",
    "* **Year Renovated**: 1990\n",
    "* **View**: 4\n",
    "* **Waterfront**: yes\n",
    "\n",
    "**Why Jennifer Should Buy It:**\n",
    "An excellent value with luxury construction and a strong view. Though more affordable than the others, it offers high-end specs in a quiet and scenic neighborhood with growing market appeal.\n",
    "\n",
    "---\n",
    "\n",
    "#### 3. **House ID: 4114601570**\n",
    "\n",
    "* **Zipcode**: 98144 (Seattle – Mt. Baker / Lake Washington)\n",
    "* **Price**: \\$3,600,000\n",
    "* **Bedrooms**: 3\n",
    "* **Living Area**: 5,020 sqft\n",
    "* **Grade**: 10\n",
    "* **Year Renovated**: 2002\n",
    "* **View**: 4\n",
    "* **Waterfront**: yes\n",
    "\n",
    "**Why Jennifer Should Buy It:**\n",
    "Perfectly matches Jennifer’s criteria with waterfront living, a high-quality renovation, and a large modern floorplan. The 98144 zip code is appreciating steadily, offering strong resale potential.\n",
    "\n",
    "---\n"
   ]
  }
 ],
 "metadata": {
  "kernelspec": {
   "display_name": ".venv",
   "language": "python",
   "name": "python3"
  },
  "language_info": {
   "codemirror_mode": {
    "name": "ipython",
    "version": 3
   },
   "file_extension": ".py",
   "mimetype": "text/x-python",
   "name": "python",
   "nbconvert_exporter": "python",
   "pygments_lexer": "ipython3",
   "version": "3.13.5"
  }
 },
 "nbformat": 4,
 "nbformat_minor": 5
}
